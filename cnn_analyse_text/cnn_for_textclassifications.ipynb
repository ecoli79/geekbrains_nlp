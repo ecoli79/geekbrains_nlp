{
 "cells": [
  {
   "cell_type": "code",
   "execution_count": 1,
   "id": "69d06d5a",
   "metadata": {},
   "outputs": [
    {
     "name": "stderr",
     "output_type": "stream",
     "text": [
      "/home/medic/python36/lib64/python3.6/site-packages/OpenSSL/crypto.py:8: CryptographyDeprecationWarning: Python 3.6 is no longer supported by the Python core team. Therefore, support for it is deprecated in cryptography and will be removed in a future release.\n",
      "  from cryptography import utils, x509\n",
      "[nltk_data] Downloading package punkt to /home/medic/nltk_data...\n",
      "[nltk_data]   Package punkt is already up-to-date!\n"
     ]
    }
   ],
   "source": [
    "import numpy as np\n",
    "import pandas as pd\n",
    "import tensorflow as tf\n",
    "\n",
    "import matplotlib as plt\n",
    "from string import punctuation\n",
    "from stop_words import get_stop_words\n",
    "from pymorphy2 import MorphAnalyzer\n",
    "import re\n",
    "\n",
    "import nltk\n",
    "from nltk.tokenize import word_tokenize\n",
    "nltk.download(\"punkt\")\n",
    "from nltk.probability import FreqDist\n",
    "\n",
    "from tensorflow import keras\n",
    "#import keras\n",
    "from keras.models import Sequential, Model\n",
    "from keras.layers import Dense, Dropout, Activation, Input, Embedding, Conv1D, GlobalMaxPool1D\n",
    "from keras.preprocessing.text import Tokenizer\n",
    "from keras.preprocessing.sequence import pad_sequences\n",
    "from keras.callbacks import TensorBoard \n",
    "from keras.losses import categorical_crossentropy\n",
    "#from keras.objectives import categorical_crossentropy\n",
    "from keras.callbacks import EarlyStopping  \n",
    "from keras import backend as K\n",
    "import gensim"
   ]
  },
  {
   "cell_type": "code",
   "execution_count": 2,
   "id": "53d2e71e",
   "metadata": {},
   "outputs": [],
   "source": [
    "test_data = pd.read_excel('./test_hotels.xlsx')\n",
    "train_data = pd.read_excel('./train_hotels.xlsx')"
   ]
  },
  {
   "cell_type": "code",
   "execution_count": 3,
   "id": "0a19de65",
   "metadata": {},
   "outputs": [
    {
     "data": {
      "text/html": [
       "<div>\n",
       "<style scoped>\n",
       "    .dataframe tbody tr th:only-of-type {\n",
       "        vertical-align: middle;\n",
       "    }\n",
       "\n",
       "    .dataframe tbody tr th {\n",
       "        vertical-align: top;\n",
       "    }\n",
       "\n",
       "    .dataframe thead th {\n",
       "        text-align: right;\n",
       "    }\n",
       "</style>\n",
       "<table border=\"1\" class=\"dataframe\">\n",
       "  <thead>\n",
       "    <tr style=\"text-align: right;\">\n",
       "      <th></th>\n",
       "      <th>sentiment</th>\n",
       "      <th>text</th>\n",
       "    </tr>\n",
       "  </thead>\n",
       "  <tbody>\n",
       "    <tr>\n",
       "      <th>0</th>\n",
       "      <td>4</td>\n",
       "      <td>Очень достойный отель с прекрасными номерами, ...</td>\n",
       "    </tr>\n",
       "    <tr>\n",
       "      <th>1</th>\n",
       "      <td>4</td>\n",
       "      <td>Остановились в Барселоне проездом, т.к. нужно ...</td>\n",
       "    </tr>\n",
       "    <tr>\n",
       "      <th>2</th>\n",
       "      <td>4</td>\n",
       "      <td>Типичная сетевая гостиница. Главный плюс-шикар...</td>\n",
       "    </tr>\n",
       "    <tr>\n",
       "      <th>3</th>\n",
       "      <td>1</td>\n",
       "      <td>Начнем с того, что в этом отеле не берут деньг...</td>\n",
       "    </tr>\n",
       "    <tr>\n",
       "      <th>4</th>\n",
       "      <td>5</td>\n",
       "      <td>Отель находится в отдалении от центра,но пешко...</td>\n",
       "    </tr>\n",
       "  </tbody>\n",
       "</table>\n",
       "</div>"
      ],
      "text/plain": [
       "   sentiment                                               text\n",
       "0          4  Очень достойный отель с прекрасными номерами, ...\n",
       "1          4  Остановились в Барселоне проездом, т.к. нужно ...\n",
       "2          4  Типичная сетевая гостиница. Главный плюс-шикар...\n",
       "3          1  Начнем с того, что в этом отеле не берут деньг...\n",
       "4          5  Отель находится в отдалении от центра,но пешко..."
      ]
     },
     "execution_count": 3,
     "metadata": {},
     "output_type": "execute_result"
    }
   ],
   "source": [
    "train_data.head()"
   ]
  },
  {
   "cell_type": "code",
   "execution_count": 4,
   "id": "ce60256c",
   "metadata": {},
   "outputs": [],
   "source": [
    "def create_sentiment(x):\n",
    "    sentiment = 0\n",
    "    if x > 3:\n",
    "        sentiment = 1\n",
    "    else:\n",
    "        sentiment = 0\n",
    "    \n",
    "    return sentiment"
   ]
  },
  {
   "cell_type": "code",
   "execution_count": 5,
   "id": "d707950a",
   "metadata": {},
   "outputs": [],
   "source": [
    "# create class from digital order\n",
    "train_data['class'] = train_data.apply(lambda x: create_sentiment(x['sentiment']), axis = 1)\n",
    "test_data['class'] = test_data.apply(lambda x: create_sentiment(x['sentiment']), axis = 1)\n",
    "# clear Nan data in datasets\n",
    "train_data.dropna(subset = ['text'], inplace = True)\n",
    "test_data.dropna(subset = ['text'], inplace = True)"
   ]
  },
  {
   "cell_type": "code",
   "execution_count": 6,
   "id": "a9f6767d",
   "metadata": {},
   "outputs": [
    {
     "data": {
      "text/html": [
       "<div>\n",
       "<style scoped>\n",
       "    .dataframe tbody tr th:only-of-type {\n",
       "        vertical-align: middle;\n",
       "    }\n",
       "\n",
       "    .dataframe tbody tr th {\n",
       "        vertical-align: top;\n",
       "    }\n",
       "\n",
       "    .dataframe thead th {\n",
       "        text-align: right;\n",
       "    }\n",
       "</style>\n",
       "<table border=\"1\" class=\"dataframe\">\n",
       "  <thead>\n",
       "    <tr style=\"text-align: right;\">\n",
       "      <th></th>\n",
       "      <th>sentiment</th>\n",
       "      <th>text</th>\n",
       "      <th>class</th>\n",
       "    </tr>\n",
       "  </thead>\n",
       "  <tbody>\n",
       "    <tr>\n",
       "      <th>0</th>\n",
       "      <td>4</td>\n",
       "      <td>Очень достойный отель с прекрасными номерами, ...</td>\n",
       "      <td>1</td>\n",
       "    </tr>\n",
       "    <tr>\n",
       "      <th>1</th>\n",
       "      <td>4</td>\n",
       "      <td>Остановились в Барселоне проездом, т.к. нужно ...</td>\n",
       "      <td>1</td>\n",
       "    </tr>\n",
       "    <tr>\n",
       "      <th>2</th>\n",
       "      <td>4</td>\n",
       "      <td>Типичная сетевая гостиница. Главный плюс-шикар...</td>\n",
       "      <td>1</td>\n",
       "    </tr>\n",
       "    <tr>\n",
       "      <th>3</th>\n",
       "      <td>1</td>\n",
       "      <td>Начнем с того, что в этом отеле не берут деньг...</td>\n",
       "      <td>0</td>\n",
       "    </tr>\n",
       "    <tr>\n",
       "      <th>4</th>\n",
       "      <td>5</td>\n",
       "      <td>Отель находится в отдалении от центра,но пешко...</td>\n",
       "      <td>1</td>\n",
       "    </tr>\n",
       "    <tr>\n",
       "      <th>5</th>\n",
       "      <td>5</td>\n",
       "      <td>Приехали с сестрой и её мужем на машине и с со...</td>\n",
       "      <td>1</td>\n",
       "    </tr>\n",
       "    <tr>\n",
       "      <th>6</th>\n",
       "      <td>5</td>\n",
       "      <td>Чистота и удобство в номерах – по высшему клас...</td>\n",
       "      <td>1</td>\n",
       "    </tr>\n",
       "    <tr>\n",
       "      <th>7</th>\n",
       "      <td>5</td>\n",
       "      <td>В сети отелей NH Collection отдыхаем впервые. ...</td>\n",
       "      <td>1</td>\n",
       "    </tr>\n",
       "    <tr>\n",
       "      <th>8</th>\n",
       "      <td>5</td>\n",
       "      <td>У отеля неплохое расположение, рядом есть разл...</td>\n",
       "      <td>1</td>\n",
       "    </tr>\n",
       "    <tr>\n",
       "      <th>9</th>\n",
       "      <td>3</td>\n",
       "      <td>отель соответствует заявленным звездам.номера ...</td>\n",
       "      <td>0</td>\n",
       "    </tr>\n",
       "    <tr>\n",
       "      <th>10</th>\n",
       "      <td>4</td>\n",
       "      <td>Хороший отель, номера чистые, сервис на уровне...</td>\n",
       "      <td>1</td>\n",
       "    </tr>\n",
       "    <tr>\n",
       "      <th>11</th>\n",
       "      <td>4</td>\n",
       "      <td>Мы с мужем провели три ночи в отеле NH Констан...</td>\n",
       "      <td>1</td>\n",
       "    </tr>\n",
       "    <tr>\n",
       "      <th>12</th>\n",
       "      <td>4</td>\n",
       "      <td>В этом отеле мы провели 2 ночи. Внутреннее офо...</td>\n",
       "      <td>1</td>\n",
       "    </tr>\n",
       "    <tr>\n",
       "      <th>13</th>\n",
       "      <td>3</td>\n",
       "      <td>Хороший отель, номер больше стандартного, чист...</td>\n",
       "      <td>0</td>\n",
       "    </tr>\n",
       "    <tr>\n",
       "      <th>14</th>\n",
       "      <td>4</td>\n",
       "      <td>Барселона – небольшой городок, но несмотря на ...</td>\n",
       "      <td>1</td>\n",
       "    </tr>\n",
       "  </tbody>\n",
       "</table>\n",
       "</div>"
      ],
      "text/plain": [
       "    sentiment                                               text  class\n",
       "0           4  Очень достойный отель с прекрасными номерами, ...      1\n",
       "1           4  Остановились в Барселоне проездом, т.к. нужно ...      1\n",
       "2           4  Типичная сетевая гостиница. Главный плюс-шикар...      1\n",
       "3           1  Начнем с того, что в этом отеле не берут деньг...      0\n",
       "4           5  Отель находится в отдалении от центра,но пешко...      1\n",
       "5           5  Приехали с сестрой и её мужем на машине и с со...      1\n",
       "6           5  Чистота и удобство в номерах – по высшему клас...      1\n",
       "7           5  В сети отелей NH Collection отдыхаем впервые. ...      1\n",
       "8           5  У отеля неплохое расположение, рядом есть разл...      1\n",
       "9           3  отель соответствует заявленным звездам.номера ...      0\n",
       "10          4  Хороший отель, номера чистые, сервис на уровне...      1\n",
       "11          4  Мы с мужем провели три ночи в отеле NH Констан...      1\n",
       "12          4  В этом отеле мы провели 2 ночи. Внутреннее офо...      1\n",
       "13          3  Хороший отель, номер больше стандартного, чист...      0\n",
       "14          4  Барселона – небольшой городок, но несмотря на ...      1"
      ]
     },
     "execution_count": 6,
     "metadata": {},
     "output_type": "execute_result"
    }
   ],
   "source": [
    "train_data.head(15)"
   ]
  },
  {
   "cell_type": "code",
   "execution_count": 9,
   "id": "b0605ca1",
   "metadata": {},
   "outputs": [],
   "source": [
    "# preproccesing a data \n",
    "stopwords = set(get_stop_words(\"ru\"))\n",
    "morpher = MorphAnalyzer()\n",
    "\n",
    "def clean_text(text):\n",
    "    text = str(text)\n",
    "    text = text.lower()\n",
    "    text = [morpher.parse(word)[0].normal_form for word in text.split() if word not in stopwords]\n",
    "    return \" \".join(text)\n",
    "\n",
    "train_data['text'] = train_data['text'].apply(clean_text)\n",
    "test_data['text'] = test_data['text'].apply(clean_text)"
   ]
  },
  {
   "cell_type": "code",
   "execution_count": 11,
   "id": "605891f4",
   "metadata": {},
   "outputs": [
    {
     "data": {
      "text/html": [
       "<div>\n",
       "<style scoped>\n",
       "    .dataframe tbody tr th:only-of-type {\n",
       "        vertical-align: middle;\n",
       "    }\n",
       "\n",
       "    .dataframe tbody tr th {\n",
       "        vertical-align: top;\n",
       "    }\n",
       "\n",
       "    .dataframe thead th {\n",
       "        text-align: right;\n",
       "    }\n",
       "</style>\n",
       "<table border=\"1\" class=\"dataframe\">\n",
       "  <thead>\n",
       "    <tr style=\"text-align: right;\">\n",
       "      <th></th>\n",
       "      <th>sentiment</th>\n",
       "      <th>text</th>\n",
       "      <th>class</th>\n",
       "    </tr>\n",
       "  </thead>\n",
       "  <tbody>\n",
       "    <tr>\n",
       "      <th>0</th>\n",
       "      <td>4</td>\n",
       "      <td>достойный отель прекрасный номерами, хороший и...</td>\n",
       "      <td>1</td>\n",
       "    </tr>\n",
       "    <tr>\n",
       "      <th>1</th>\n",
       "      <td>4</td>\n",
       "      <td>остановиться барселона проездом, т.к. посетить...</td>\n",
       "      <td>1</td>\n",
       "    </tr>\n",
       "    <tr>\n",
       "      <th>2</th>\n",
       "      <td>4</td>\n",
       "      <td>типичный сетевой гостиница. главный плюс-шикар...</td>\n",
       "      <td>1</td>\n",
       "    </tr>\n",
       "    <tr>\n",
       "      <th>3</th>\n",
       "      <td>1</td>\n",
       "      <td>начать того, отель брать деньга воздух. звонок...</td>\n",
       "      <td>0</td>\n",
       "    </tr>\n",
       "    <tr>\n",
       "      <th>4</th>\n",
       "      <td>5</td>\n",
       "      <td>отель находиться отдаление центра,ный пешком д...</td>\n",
       "      <td>1</td>\n",
       "    </tr>\n",
       "    <tr>\n",
       "      <th>5</th>\n",
       "      <td>5</td>\n",
       "      <td>приехать сестра муж машина собакой. парковка п...</td>\n",
       "      <td>1</td>\n",
       "    </tr>\n",
       "  </tbody>\n",
       "</table>\n",
       "</div>"
      ],
      "text/plain": [
       "   sentiment                                               text  class\n",
       "0          4  достойный отель прекрасный номерами, хороший и...      1\n",
       "1          4  остановиться барселона проездом, т.к. посетить...      1\n",
       "2          4  типичный сетевой гостиница. главный плюс-шикар...      1\n",
       "3          1  начать того, отель брать деньга воздух. звонок...      0\n",
       "4          5  отель находиться отдаление центра,ный пешком д...      1\n",
       "5          5  приехать сестра муж машина собакой. парковка п...      1"
      ]
     },
     "execution_count": 11,
     "metadata": {},
     "output_type": "execute_result"
    }
   ],
   "source": [
    "train_data.head(6)"
   ]
  },
  {
   "cell_type": "code",
   "execution_count": 12,
   "id": "510ca5d2",
   "metadata": {},
   "outputs": [
    {
     "data": {
      "text/plain": [
       "1    41507\n",
       "0     8668\n",
       "Name: class, dtype: int64"
      ]
     },
     "execution_count": 12,
     "metadata": {},
     "output_type": "execute_result"
    }
   ],
   "source": [
    "train_data['class'].value_counts()"
   ]
  },
  {
   "cell_type": "markdown",
   "id": "3b72b50e",
   "metadata": {},
   "source": [
    "У нас дисбаланс классов. Это не есть хорошо."
   ]
  },
  {
   "cell_type": "code",
   "execution_count": 13,
   "id": "88cad94d",
   "metadata": {},
   "outputs": [],
   "source": [
    "train_corpus = \" \".join(train_data[\"text\"])\n",
    "train_corpus = train_corpus.lower()\n",
    "tokens = word_tokenize(train_corpus)"
   ]
  },
  {
   "cell_type": "code",
   "execution_count": 14,
   "id": "a2d4586a",
   "metadata": {},
   "outputs": [
    {
     "data": {
      "text/plain": [
       "['отель',\n",
       " 'номер',\n",
       " 'завтрак',\n",
       " 'хороший',\n",
       " 'персонал',\n",
       " 'минута',\n",
       " 'вид',\n",
       " 'метро',\n",
       " 'отличный',\n",
       " 'расположение',\n",
       " 'большой',\n",
       " 'центр',\n",
       " 'находиться',\n",
       " 'ресторан',\n",
       " 'бассейн']"
      ]
     },
     "execution_count": 14,
     "metadata": {},
     "output_type": "execute_result"
    }
   ],
   "source": [
    "max_words = 200\n",
    "max_len = 40\n",
    "\n",
    "tokens_filtered = [word for word in tokens if word.isalnum()]\n",
    "dist = FreqDist(tokens_filtered)\n",
    "tokens_filtered_top = [pair[0] for pair in dist.most_common(max_words-1)]\n",
    "tokens_filtered_top[:15]"
   ]
  },
  {
   "cell_type": "code",
   "execution_count": 15,
   "id": "494d8feb",
   "metadata": {},
   "outputs": [],
   "source": [
    "vocabulary = {v: k for k, v in dict(enumerate(tokens_filtered_top, 1)).items()}"
   ]
  },
  {
   "cell_type": "code",
   "execution_count": 16,
   "id": "f7aa8ad1",
   "metadata": {},
   "outputs": [],
   "source": [
    "def text_to_sequence(text, maxlen):\n",
    "    result = []\n",
    "    tokens = word_tokenize(text.lower())\n",
    "    tokens_filtered = [word for word in tokens if word.isalnum()]\n",
    "    for word in tokens_filtered:\n",
    "        if word in vocabulary:\n",
    "            result.append(vocabulary[word])\n",
    "    padding = [0]*(maxlen-len(result))\n",
    "    return padding + result[-maxlen:]"
   ]
  },
  {
   "cell_type": "code",
   "execution_count": 17,
   "id": "91715b7a",
   "metadata": {},
   "outputs": [],
   "source": [
    "x_train = np.asarray([text_to_sequence(text, max_len) for text in train_data[\"text\"]], dtype=np.int32)\n",
    "x_test = np.asarray([text_to_sequence(text, max_len) for text in test_data[\"text\"]], dtype=np.int32)"
   ]
  },
  {
   "cell_type": "code",
   "execution_count": 18,
   "id": "7c4d655c",
   "metadata": {},
   "outputs": [
    {
     "data": {
      "text/plain": [
       "((50175, 40), (6876, 40))"
      ]
     },
     "execution_count": 18,
     "metadata": {},
     "output_type": "execute_result"
    }
   ],
   "source": [
    "x_train.shape, x_test.shape"
   ]
  },
  {
   "cell_type": "code",
   "execution_count": 19,
   "id": "cc83cf31",
   "metadata": {},
   "outputs": [
    {
     "data": {
      "text/plain": [
       "array([  0,   0,   0,   0,   0,   0,   0,   0,   0,   0,   0,   0,   0,\n",
       "         0,   0,   0,   0,   0,   0,   0,   0,   4,   1,   2,  33,  10,\n",
       "        28,   6,   6,   8,  73,  49,   6, 116, 113,  44, 104,   1, 108,\n",
       "         8], dtype=int32)"
      ]
     },
     "execution_count": 19,
     "metadata": {},
     "output_type": "execute_result"
    }
   ],
   "source": [
    "x_train[13]"
   ]
  },
  {
   "cell_type": "code",
   "execution_count": 20,
   "id": "9e186a6b",
   "metadata": {},
   "outputs": [],
   "source": [
    "num_classes = 2\n",
    "y_train = keras.utils.to_categorical(train_data['class'], num_classes)\n",
    "y_test = keras.utils.to_categorical(test_data['class'], num_classes)"
   ]
  },
  {
   "cell_type": "code",
   "execution_count": 21,
   "id": "c95d2008",
   "metadata": {},
   "outputs": [],
   "source": [
    "# model with random weights \n",
    "epochs = 40\n",
    "batch_size = 512\n",
    "print_batch_n = 100\n",
    "\n",
    "model = Sequential()\n",
    "model.add(Embedding(input_dim=max_words, output_dim=128, input_length=max_len))\n",
    "model.add(Conv1D(128, 3))\n",
    "model.add(Activation(\"relu\"))\n",
    "model.add(GlobalMaxPool1D())\n",
    "model.add(Dense(10))\n",
    "model.add(Activation(\"relu\"))\n",
    "model.add(Dense(num_classes))\n",
    "model.add(Activation('softmax'))"
   ]
  },
  {
   "cell_type": "code",
   "execution_count": 22,
   "id": "9ce7ea06",
   "metadata": {},
   "outputs": [],
   "source": [
    "# for calculate f1 metric it that we have disbalance classes\n",
    "def f1(y_true, y_pred):\n",
    "    def recall(y_true, y_pred):\n",
    "        true_positives = K.sum(K.round(K.clip(y_true * y_pred, 0, 1)))\n",
    "        possible_positives = K.sum(K.round(K.clip(y_true, 0, 1)))\n",
    "        recall = true_positives / (possible_positives + K.epsilon())\n",
    "        return recall\n",
    "\n",
    "    def precision(y_true, y_pred):\n",
    "        true_positives = K.sum(K.round(K.clip(y_true * y_pred, 0, 1)))\n",
    "        predicted_positives = K.sum(K.round(K.clip(y_pred, 0, 1)))\n",
    "        precision = true_positives / (predicted_positives + K.epsilon())\n",
    "        return precision\n",
    "    precision = precision(y_true, y_pred)\n",
    "    recall = recall(y_true, y_pred)\n",
    "    return 2*((precision*recall)/(precision+recall+K.epsilon()))"
   ]
  },
  {
   "cell_type": "code",
   "execution_count": 23,
   "id": "f5203d26",
   "metadata": {},
   "outputs": [],
   "source": [
    "model.compile(loss = 'categorical_crossentropy',\n",
    "              optimizer = 'adam',\n",
    "              metrics = [f1])"
   ]
  },
  {
   "cell_type": "code",
   "execution_count": 133,
   "id": "29779b1c",
   "metadata": {},
   "outputs": [
    {
     "name": "stdout",
     "output_type": "stream",
     "text": [
      "Epoch 1/40\n",
      "89/89 [==============================] - 6s 67ms/step - loss: 0.3287 - f1: 0.8623 - val_loss: 0.3802 - val_f1: 0.8381\n",
      "CPU times: user 15.6 s, sys: 279 ms, total: 15.9 s\n",
      "Wall time: 6.06 s\n"
     ]
    }
   ],
   "source": [
    "%%time\n",
    "tensorboard=TensorBoard(log_dir='./logs', write_graph=True, write_images=True)\n",
    "early_stopping=EarlyStopping(monitor='val_loss')  \n",
    "\n",
    "history = model.fit(x_train, y_train,\n",
    "                    batch_size=batch_size,\n",
    "                    epochs=epochs,\n",
    "                    verbose=1,\n",
    "                    validation_split=0.1,\n",
    "                    callbacks=[tensorboard, early_stopping])"
   ]
  },
  {
   "cell_type": "code",
   "execution_count": 134,
   "id": "164694a8",
   "metadata": {},
   "outputs": [
    {
     "name": "stdout",
     "output_type": "stream",
     "text": [
      "14/14 [==============================] - 0s 14ms/step - loss: 0.3297 - f1: 0.8580\n",
      "\n",
      "\n",
      "Test f1: 0.8579697012901306\n"
     ]
    }
   ],
   "source": [
    "score = model.evaluate(x_test, y_test, batch_size=batch_size, verbose=1)\n",
    "print('\\n')\n",
    "print('Test f1:', score[1])"
   ]
  },
  {
   "cell_type": "markdown",
   "id": "bb87c672",
   "metadata": {},
   "source": [
    "#### Предобученная модель. Проверим насколько лучше будут результаты у предварительно обученной модели.\n",
    "\n"
   ]
  },
  {
   "cell_type": "raw",
   "id": "cea7a3c9",
   "metadata": {},
   "source": [
    "Возьмем статическую модель ruwikiruscorpora_upos_cbow_300_10_2021"
   ]
  },
  {
   "cell_type": "code",
   "execution_count": 72,
   "id": "055c0836",
   "metadata": {},
   "outputs": [],
   "source": [
    "# get list of words for search it in pretrained model \n",
    "voc = list(vocabulary.keys())\n",
    "voc_new = []\n",
    "for w in voc:\n",
    "    w += '_NOUN'\n",
    "    voc_new.append(w)"
   ]
  },
  {
   "cell_type": "code",
   "execution_count": 26,
   "id": "60b9ffda",
   "metadata": {},
   "outputs": [],
   "source": [
    "word_vectors = gensim.models.KeyedVectors.load_word2vec_format('./220/model.bin', binary = True)\n",
    "#word_vectors_matrix = [word_vectors[i][:128] for i in range(200)] \n",
    "#initializer = tf.keras.initializers.Constant(word_vectors_matrix)"
   ]
  },
  {
   "cell_type": "code",
   "execution_count": 126,
   "id": "56f21a18",
   "metadata": {},
   "outputs": [],
   "source": [
    "#word_vectors.get_vector('приятный'.split('_')[0])\n",
    "matrix_voc = [word_vectors[val][:128] for key, val in word_vectors.key_to_index.items()\n",
    "              if key.split('_')[0] in list(vocabulary.keys())]\n",
    "initializer = tf.keras.initializers.Constant(matrix_voc[:200])"
   ]
  },
  {
   "cell_type": "code",
   "execution_count": 128,
   "id": "dae5fa61",
   "metadata": {},
   "outputs": [],
   "source": [
    "pretren_model = Sequential()\n",
    "pretren_model.add(Embedding(input_dim=max_words, embeddings_initializer=initializer,\n",
    "                            output_dim=128, input_length=max_len, trainable=False))\n",
    "pretren_model.add(Conv1D(128, 3))\n",
    "pretren_model.add(Activation(\"relu\"))\n",
    "pretren_model.add(GlobalMaxPool1D())\n",
    "pretren_model.add(Dense(10))\n",
    "pretren_model.add(Activation(\"relu\"))\n",
    "pretren_model.add(Dense(num_classes))\n",
    "pretren_model.add(Activation('softmax'))"
   ]
  },
  {
   "cell_type": "code",
   "execution_count": 129,
   "id": "3b43f035",
   "metadata": {},
   "outputs": [],
   "source": [
    "pretren_model.compile(loss = 'categorical_crossentropy',\n",
    "              optimizer = 'adam',\n",
    "              metrics = [f1])"
   ]
  },
  {
   "cell_type": "code",
   "execution_count": 132,
   "id": "656313b1",
   "metadata": {},
   "outputs": [
    {
     "name": "stdout",
     "output_type": "stream",
     "text": [
      "Epoch 1/40\n",
      "89/89 [==============================] - 4s 48ms/step - loss: 0.3527 - f1: 0.8507 - val_loss: 0.4124 - val_f1: 0.8230\n",
      "CPU times: user 12.1 s, sys: 234 ms, total: 12.3 s\n",
      "Wall time: 4.32 s\n"
     ]
    }
   ],
   "source": [
    "%%time\n",
    "history = pretren_model.fit(x_train, y_train,\n",
    "                    batch_size=batch_size,\n",
    "                    epochs=epochs,\n",
    "                    verbose=1,\n",
    "                    validation_split=0.1,\n",
    "                    callbacks=[tensorboard, early_stopping])"
   ]
  },
  {
   "cell_type": "code",
   "execution_count": 131,
   "id": "c75cf413",
   "metadata": {},
   "outputs": [
    {
     "name": "stdout",
     "output_type": "stream",
     "text": [
      "14/14 [==============================] - 0s 14ms/step - loss: 0.3773 - f1: 0.8391\n",
      "\n",
      "\n",
      "Test f1: 0.8390928506851196\n"
     ]
    }
   ],
   "source": [
    "score = pretren_model.evaluate(x_test, y_test, batch_size=batch_size, verbose=1)\n",
    "print('\\n')\n",
    "print('Test f1:', score[1])"
   ]
  },
  {
   "cell_type": "markdown",
   "id": "0763407d",
   "metadata": {},
   "source": [
    "#### Выводы по данному исследованию:\n",
    "1. Модель со свободными весами показала хорошие результаты. Точность классификации 0.8579 на нестовой выборке.\n",
    "2. Модель с весами из предобученной модели показала схожие результаты, однако скорость обучения в предобученной модели выше чем у модели со свободными весами. \n",
    "Если бы наша модель была сложнее и имела больше данных то разница в скорости выполения была бы еще больше.\n",
    "\n",
    "<table>\n",
    "<thead>\n",
    "    <tr><th>Model</th><th>F1 (accuracy)</th><th>Time execution</th></tr>\n",
    "</thead>\n",
    "<tbody>\n",
    "    <tr><td>Free weights</td><td>0.8579</td><td>total: 15.9 s</td></tr>\n",
    "    <tr><td>Pretrained</td><td>0.8390</td><td>total: 12.3 s</td></tr>\n",
    "</tbody>\n",
    "</table>"
   ]
  },
  {
   "cell_type": "code",
   "execution_count": null,
   "id": "695e599d",
   "metadata": {},
   "outputs": [],
   "source": []
  }
 ],
 "metadata": {
  "kernelspec": {
   "display_name": "Python 3 (ipykernel)",
   "language": "python",
   "name": "python3"
  },
  "language_info": {
   "codemirror_mode": {
    "name": "ipython",
    "version": 3
   },
   "file_extension": ".py",
   "mimetype": "text/x-python",
   "name": "python",
   "nbconvert_exporter": "python",
   "pygments_lexer": "ipython3",
   "version": "3.6.15"
  }
 },
 "nbformat": 4,
 "nbformat_minor": 5
}
