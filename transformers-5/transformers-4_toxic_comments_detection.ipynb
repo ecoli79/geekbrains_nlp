{
 "cells": [
  {
   "cell_type": "markdown",
   "id": "483bccc3",
   "metadata": {},
   "source": [
    "### Detecting toxic phrases"
   ]
  },
  {
   "cell_type": "code",
   "execution_count": 1,
   "id": "d68d988a",
   "metadata": {},
   "outputs": [],
   "source": [
    "import torch\n",
    "from datasets import load_dataset\n",
    "from transformers import AutoTokenizer, AutoModelForSeq2SeqLM, AutoModelForSequenceClassification"
   ]
  },
  {
   "cell_type": "code",
   "execution_count": 2,
   "id": "5adc5445",
   "metadata": {},
   "outputs": [
    {
     "name": "stderr",
     "output_type": "stream",
     "text": [
      "Using custom data configuration merionum--ru_paraphraser-8471dca11b8f9d26\n",
      "Found cached dataset json (/home/medic/.cache/huggingface/datasets/merionum___json/merionum--ru_paraphraser-8471dca11b8f9d26/0.0.0/e6070c77f18f01a5ad4551a8b7edfba20b8438b7cad4d94e6ad9378022ce4aab)\n"
     ]
    },
    {
     "data": {
      "application/vnd.jupyter.widget-view+json": {
       "model_id": "53c9e1129fdb45b19ef15f3fde382e81",
       "version_major": 2,
       "version_minor": 0
      },
      "text/plain": [
       "  0%|          | 0/1 [00:00<?, ?it/s]"
      ]
     },
     "metadata": {},
     "output_type": "display_data"
    }
   ],
   "source": [
    "corpus = load_dataset('merionum/ru_paraphraser', data_files='plus.jsonl')"
   ]
  },
  {
   "cell_type": "code",
   "execution_count": 3,
   "id": "14403c80",
   "metadata": {},
   "outputs": [],
   "source": [
    "model_checkpoint = 'cointegrated/rubert-tiny-toxicity'\n",
    "tokenizer = AutoTokenizer.from_pretrained(model_checkpoint)\n",
    "model = AutoModelForSequenceClassification.from_pretrained(model_checkpoint)\n",
    "# if torch.cuda.is_available():\n",
    "#     model.cuda()"
   ]
  },
  {
   "cell_type": "code",
   "execution_count": 4,
   "id": "93a36e7f",
   "metadata": {},
   "outputs": [],
   "source": [
    "def text2toxicity(text, aggregate = True):\n",
    "    \"\"\" Calculate toxicity of a text (if aggregate=True) or a vector of toxicity aspects (if aggregate=False)\"\"\"\n",
    "    with torch.no_grad():\n",
    "        inputs = tokenizer(text, return_tensors='pt', truncation=True, padding=True).to(model.device)\n",
    "        proba = torch.sigmoid(model(**inputs).logits).cpu().numpy()\n",
    "    if isinstance(text, str):\n",
    "        proba = proba[0]\n",
    "    if aggregate:\n",
    "        return 1 - proba.T[0] * (1 - proba.T[-1])\n",
    "    return proba\n"
   ]
  },
  {
   "cell_type": "code",
   "execution_count": 5,
   "id": "7c7deb94",
   "metadata": {},
   "outputs": [
    {
     "name": "stdout",
     "output_type": "stream",
     "text": [
      "0.023072274617099375\n"
     ]
    }
   ],
   "source": [
    "print(text2toxicity('Слишком сложно выбрать нужную модель', True))"
   ]
  },
  {
   "cell_type": "code",
   "execution_count": 6,
   "id": "a7e58bdd",
   "metadata": {},
   "outputs": [
    {
     "name": "stdout",
     "output_type": "stream",
     "text": [
      "[8.8611082e-04 9.7716516e-01 3.7684384e-01 1.7920768e-02 9.1513145e-01]\n"
     ]
    }
   ],
   "source": [
    "print(text2toxicity('Да иди ты в жопу', False))"
   ]
  },
  {
   "cell_type": "code",
   "execution_count": 7,
   "id": "5bea7ff6",
   "metadata": {},
   "outputs": [
    {
     "name": "stdout",
     "output_type": "stream",
     "text": [
      "0.9999247970591534\n"
     ]
    }
   ],
   "source": [
    "print(text2toxicity('Да иди ты в жопу', True))"
   ]
  }
 ],
 "metadata": {
  "kernelspec": {
   "display_name": "Python 3 (ipykernel)",
   "language": "python",
   "name": "python3"
  },
  "language_info": {
   "codemirror_mode": {
    "name": "ipython",
    "version": 3
   },
   "file_extension": ".py",
   "mimetype": "text/x-python",
   "name": "python",
   "nbconvert_exporter": "python",
   "pygments_lexer": "ipython3",
   "version": "3.10.9"
  }
 },
 "nbformat": 4,
 "nbformat_minor": 5
}
