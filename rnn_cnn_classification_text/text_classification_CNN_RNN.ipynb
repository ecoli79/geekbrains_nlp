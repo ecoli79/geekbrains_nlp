{
 "cells": [
  {
   "cell_type": "code",
   "execution_count": 2,
   "id": "4aea0772",
   "metadata": {},
   "outputs": [
    {
     "name": "stderr",
     "output_type": "stream",
     "text": [
      "/home/medic/python36/lib64/python3.6/site-packages/OpenSSL/crypto.py:8: CryptographyDeprecationWarning: Python 3.6 is no longer supported by the Python core team. Therefore, support for it is deprecated in cryptography and will be removed in a future release.\n",
      "  from cryptography import utils, x509\n",
      "[nltk_data] Downloading package punkt to /home/medic/nltk_data...\n",
      "[nltk_data]   Package punkt is already up-to-date!\n"
     ]
    }
   ],
   "source": [
    "import numpy as np\n",
    "import pandas as pd\n",
    "import tensorflow as tf\n",
    "\n",
    "import matplotlib as plt\n",
    "from string import punctuation\n",
    "from stop_words import get_stop_words\n",
    "from pymorphy2 import MorphAnalyzer\n",
    "import re\n",
    "\n",
    "import nltk\n",
    "from nltk.tokenize import word_tokenize\n",
    "nltk.download(\"punkt\")\n",
    "from nltk.probability import FreqDist\n",
    "\n",
    "from tensorflow import keras\n",
    "#import keras\n",
    "from keras.models import Sequential, Model\n",
    "from keras.layers import Dense, Dropout, Activation, Input, Embedding, Conv1D, GlobalMaxPool1D, SimpleRNN, LSTM, GRU, Masking\n",
    "from keras.preprocessing.text import Tokenizer\n",
    "from keras.preprocessing.sequence import pad_sequences\n",
    "from keras.callbacks import TensorBoard \n",
    "from keras.losses import categorical_crossentropy\n",
    "#from keras.objectives import categorical_crossentropy\n",
    "from keras.callbacks import EarlyStopping  \n",
    "from keras import backend as K\n",
    "import gensim"
   ]
  },
  {
   "cell_type": "markdown",
   "id": "aa969cea",
   "metadata": {},
   "source": [
    "#### Подготовка данных для обучения моделей"
   ]
  },
  {
   "cell_type": "code",
   "execution_count": 3,
   "id": "41de98b9",
   "metadata": {},
   "outputs": [],
   "source": [
    "test_data = pd.read_excel('./test_hotels.xlsx')\n",
    "train_data = pd.read_excel('./train_hotels.xlsx')"
   ]
  },
  {
   "cell_type": "code",
   "execution_count": 4,
   "id": "08e2c05c",
   "metadata": {},
   "outputs": [
    {
     "data": {
      "text/html": [
       "<div>\n",
       "<style scoped>\n",
       "    .dataframe tbody tr th:only-of-type {\n",
       "        vertical-align: middle;\n",
       "    }\n",
       "\n",
       "    .dataframe tbody tr th {\n",
       "        vertical-align: top;\n",
       "    }\n",
       "\n",
       "    .dataframe thead th {\n",
       "        text-align: right;\n",
       "    }\n",
       "</style>\n",
       "<table border=\"1\" class=\"dataframe\">\n",
       "  <thead>\n",
       "    <tr style=\"text-align: right;\">\n",
       "      <th></th>\n",
       "      <th>sentiment</th>\n",
       "      <th>text</th>\n",
       "    </tr>\n",
       "  </thead>\n",
       "  <tbody>\n",
       "    <tr>\n",
       "      <th>0</th>\n",
       "      <td>4</td>\n",
       "      <td>Очень достойный отель с прекрасными номерами, ...</td>\n",
       "    </tr>\n",
       "    <tr>\n",
       "      <th>1</th>\n",
       "      <td>4</td>\n",
       "      <td>Остановились в Барселоне проездом, т.к. нужно ...</td>\n",
       "    </tr>\n",
       "    <tr>\n",
       "      <th>2</th>\n",
       "      <td>4</td>\n",
       "      <td>Типичная сетевая гостиница. Главный плюс-шикар...</td>\n",
       "    </tr>\n",
       "    <tr>\n",
       "      <th>3</th>\n",
       "      <td>1</td>\n",
       "      <td>Начнем с того, что в этом отеле не берут деньг...</td>\n",
       "    </tr>\n",
       "    <tr>\n",
       "      <th>4</th>\n",
       "      <td>5</td>\n",
       "      <td>Отель находится в отдалении от центра,но пешко...</td>\n",
       "    </tr>\n",
       "  </tbody>\n",
       "</table>\n",
       "</div>"
      ],
      "text/plain": [
       "   sentiment                                               text\n",
       "0          4  Очень достойный отель с прекрасными номерами, ...\n",
       "1          4  Остановились в Барселоне проездом, т.к. нужно ...\n",
       "2          4  Типичная сетевая гостиница. Главный плюс-шикар...\n",
       "3          1  Начнем с того, что в этом отеле не берут деньг...\n",
       "4          5  Отель находится в отдалении от центра,но пешко..."
      ]
     },
     "execution_count": 4,
     "metadata": {},
     "output_type": "execute_result"
    }
   ],
   "source": [
    "train_data.head()"
   ]
  },
  {
   "cell_type": "code",
   "execution_count": 5,
   "id": "ff44b3dd",
   "metadata": {},
   "outputs": [],
   "source": [
    "def create_sentiment(x):\n",
    "    sentiment = 0\n",
    "    if x > 3:\n",
    "        sentiment = 1\n",
    "    else:\n",
    "        sentiment = 0\n",
    "    \n",
    "    return sentiment\n",
    "\n",
    "# create class from digital order\n",
    "train_data['class'] = train_data.apply(lambda x: create_sentiment(x['sentiment']), axis = 1)\n",
    "test_data['class'] = test_data.apply(lambda x: create_sentiment(x['sentiment']), axis = 1)\n",
    "# clear Nan data in datasets\n",
    "train_data.dropna(subset = ['text'], inplace = True)\n",
    "test_data.dropna(subset = ['text'], inplace = True)"
   ]
  },
  {
   "cell_type": "code",
   "execution_count": 6,
   "id": "33cd3b0d",
   "metadata": {},
   "outputs": [
    {
     "data": {
      "text/html": [
       "<div>\n",
       "<style scoped>\n",
       "    .dataframe tbody tr th:only-of-type {\n",
       "        vertical-align: middle;\n",
       "    }\n",
       "\n",
       "    .dataframe tbody tr th {\n",
       "        vertical-align: top;\n",
       "    }\n",
       "\n",
       "    .dataframe thead th {\n",
       "        text-align: right;\n",
       "    }\n",
       "</style>\n",
       "<table border=\"1\" class=\"dataframe\">\n",
       "  <thead>\n",
       "    <tr style=\"text-align: right;\">\n",
       "      <th></th>\n",
       "      <th>sentiment</th>\n",
       "      <th>text</th>\n",
       "      <th>class</th>\n",
       "    </tr>\n",
       "  </thead>\n",
       "  <tbody>\n",
       "    <tr>\n",
       "      <th>0</th>\n",
       "      <td>4</td>\n",
       "      <td>Очень достойный отель с прекрасными номерами, ...</td>\n",
       "      <td>1</td>\n",
       "    </tr>\n",
       "    <tr>\n",
       "      <th>1</th>\n",
       "      <td>4</td>\n",
       "      <td>Остановились в Барселоне проездом, т.к. нужно ...</td>\n",
       "      <td>1</td>\n",
       "    </tr>\n",
       "    <tr>\n",
       "      <th>2</th>\n",
       "      <td>4</td>\n",
       "      <td>Типичная сетевая гостиница. Главный плюс-шикар...</td>\n",
       "      <td>1</td>\n",
       "    </tr>\n",
       "    <tr>\n",
       "      <th>3</th>\n",
       "      <td>1</td>\n",
       "      <td>Начнем с того, что в этом отеле не берут деньг...</td>\n",
       "      <td>0</td>\n",
       "    </tr>\n",
       "    <tr>\n",
       "      <th>4</th>\n",
       "      <td>5</td>\n",
       "      <td>Отель находится в отдалении от центра,но пешко...</td>\n",
       "      <td>1</td>\n",
       "    </tr>\n",
       "    <tr>\n",
       "      <th>5</th>\n",
       "      <td>5</td>\n",
       "      <td>Приехали с сестрой и её мужем на машине и с со...</td>\n",
       "      <td>1</td>\n",
       "    </tr>\n",
       "    <tr>\n",
       "      <th>6</th>\n",
       "      <td>5</td>\n",
       "      <td>Чистота и удобство в номерах – по высшему клас...</td>\n",
       "      <td>1</td>\n",
       "    </tr>\n",
       "    <tr>\n",
       "      <th>7</th>\n",
       "      <td>5</td>\n",
       "      <td>В сети отелей NH Collection отдыхаем впервые. ...</td>\n",
       "      <td>1</td>\n",
       "    </tr>\n",
       "    <tr>\n",
       "      <th>8</th>\n",
       "      <td>5</td>\n",
       "      <td>У отеля неплохое расположение, рядом есть разл...</td>\n",
       "      <td>1</td>\n",
       "    </tr>\n",
       "    <tr>\n",
       "      <th>9</th>\n",
       "      <td>3</td>\n",
       "      <td>отель соответствует заявленным звездам.номера ...</td>\n",
       "      <td>0</td>\n",
       "    </tr>\n",
       "    <tr>\n",
       "      <th>10</th>\n",
       "      <td>4</td>\n",
       "      <td>Хороший отель, номера чистые, сервис на уровне...</td>\n",
       "      <td>1</td>\n",
       "    </tr>\n",
       "    <tr>\n",
       "      <th>11</th>\n",
       "      <td>4</td>\n",
       "      <td>Мы с мужем провели три ночи в отеле NH Констан...</td>\n",
       "      <td>1</td>\n",
       "    </tr>\n",
       "    <tr>\n",
       "      <th>12</th>\n",
       "      <td>4</td>\n",
       "      <td>В этом отеле мы провели 2 ночи. Внутреннее офо...</td>\n",
       "      <td>1</td>\n",
       "    </tr>\n",
       "    <tr>\n",
       "      <th>13</th>\n",
       "      <td>3</td>\n",
       "      <td>Хороший отель, номер больше стандартного, чист...</td>\n",
       "      <td>0</td>\n",
       "    </tr>\n",
       "    <tr>\n",
       "      <th>14</th>\n",
       "      <td>4</td>\n",
       "      <td>Барселона – небольшой городок, но несмотря на ...</td>\n",
       "      <td>1</td>\n",
       "    </tr>\n",
       "  </tbody>\n",
       "</table>\n",
       "</div>"
      ],
      "text/plain": [
       "    sentiment                                               text  class\n",
       "0           4  Очень достойный отель с прекрасными номерами, ...      1\n",
       "1           4  Остановились в Барселоне проездом, т.к. нужно ...      1\n",
       "2           4  Типичная сетевая гостиница. Главный плюс-шикар...      1\n",
       "3           1  Начнем с того, что в этом отеле не берут деньг...      0\n",
       "4           5  Отель находится в отдалении от центра,но пешко...      1\n",
       "5           5  Приехали с сестрой и её мужем на машине и с со...      1\n",
       "6           5  Чистота и удобство в номерах – по высшему клас...      1\n",
       "7           5  В сети отелей NH Collection отдыхаем впервые. ...      1\n",
       "8           5  У отеля неплохое расположение, рядом есть разл...      1\n",
       "9           3  отель соответствует заявленным звездам.номера ...      0\n",
       "10          4  Хороший отель, номера чистые, сервис на уровне...      1\n",
       "11          4  Мы с мужем провели три ночи в отеле NH Констан...      1\n",
       "12          4  В этом отеле мы провели 2 ночи. Внутреннее офо...      1\n",
       "13          3  Хороший отель, номер больше стандартного, чист...      0\n",
       "14          4  Барселона – небольшой городок, но несмотря на ...      1"
      ]
     },
     "execution_count": 6,
     "metadata": {},
     "output_type": "execute_result"
    }
   ],
   "source": [
    "train_data.head(15)"
   ]
  },
  {
   "cell_type": "code",
   "execution_count": 7,
   "id": "6ff30250",
   "metadata": {},
   "outputs": [],
   "source": [
    "# preproccesing a data \n",
    "stopwords = set(get_stop_words(\"ru\"))\n",
    "morpher = MorphAnalyzer()\n",
    "\n",
    "def clean_text(text):\n",
    "    text = str(text)\n",
    "    text = text.lower()\n",
    "    text = [morpher.parse(word)[0].normal_form for word in text.split() if word not in stopwords]\n",
    "    return \" \".join(text)\n",
    "\n",
    "train_data['text'] = train_data['text'].apply(clean_text)\n",
    "test_data['text'] = test_data['text'].apply(clean_text)"
   ]
  },
  {
   "cell_type": "code",
   "execution_count": 8,
   "id": "f083cc3a",
   "metadata": {},
   "outputs": [
    {
     "data": {
      "text/html": [
       "<div>\n",
       "<style scoped>\n",
       "    .dataframe tbody tr th:only-of-type {\n",
       "        vertical-align: middle;\n",
       "    }\n",
       "\n",
       "    .dataframe tbody tr th {\n",
       "        vertical-align: top;\n",
       "    }\n",
       "\n",
       "    .dataframe thead th {\n",
       "        text-align: right;\n",
       "    }\n",
       "</style>\n",
       "<table border=\"1\" class=\"dataframe\">\n",
       "  <thead>\n",
       "    <tr style=\"text-align: right;\">\n",
       "      <th></th>\n",
       "      <th>sentiment</th>\n",
       "      <th>text</th>\n",
       "      <th>class</th>\n",
       "    </tr>\n",
       "  </thead>\n",
       "  <tbody>\n",
       "    <tr>\n",
       "      <th>0</th>\n",
       "      <td>4</td>\n",
       "      <td>достойный отель прекрасный номерами, хороший и...</td>\n",
       "      <td>1</td>\n",
       "    </tr>\n",
       "    <tr>\n",
       "      <th>1</th>\n",
       "      <td>4</td>\n",
       "      <td>остановиться барселона проездом, т.к. посетить...</td>\n",
       "      <td>1</td>\n",
       "    </tr>\n",
       "    <tr>\n",
       "      <th>2</th>\n",
       "      <td>4</td>\n",
       "      <td>типичный сетевой гостиница. главный плюс-шикар...</td>\n",
       "      <td>1</td>\n",
       "    </tr>\n",
       "    <tr>\n",
       "      <th>3</th>\n",
       "      <td>1</td>\n",
       "      <td>начать того, отель брать деньга воздух. звонок...</td>\n",
       "      <td>0</td>\n",
       "    </tr>\n",
       "    <tr>\n",
       "      <th>4</th>\n",
       "      <td>5</td>\n",
       "      <td>отель находиться отдаление центра,ный пешком д...</td>\n",
       "      <td>1</td>\n",
       "    </tr>\n",
       "    <tr>\n",
       "      <th>5</th>\n",
       "      <td>5</td>\n",
       "      <td>приехать сестра муж машина собакой. парковка п...</td>\n",
       "      <td>1</td>\n",
       "    </tr>\n",
       "  </tbody>\n",
       "</table>\n",
       "</div>"
      ],
      "text/plain": [
       "   sentiment                                               text  class\n",
       "0          4  достойный отель прекрасный номерами, хороший и...      1\n",
       "1          4  остановиться барселона проездом, т.к. посетить...      1\n",
       "2          4  типичный сетевой гостиница. главный плюс-шикар...      1\n",
       "3          1  начать того, отель брать деньга воздух. звонок...      0\n",
       "4          5  отель находиться отдаление центра,ный пешком д...      1\n",
       "5          5  приехать сестра муж машина собакой. парковка п...      1"
      ]
     },
     "execution_count": 8,
     "metadata": {},
     "output_type": "execute_result"
    }
   ],
   "source": [
    "train_data.head(6)"
   ]
  },
  {
   "cell_type": "code",
   "execution_count": 9,
   "id": "0b4121d5",
   "metadata": {},
   "outputs": [
    {
     "data": {
      "text/plain": [
       "1    41507\n",
       "0     8668\n",
       "Name: class, dtype: int64"
      ]
     },
     "execution_count": 9,
     "metadata": {},
     "output_type": "execute_result"
    }
   ],
   "source": [
    "train_data['class'].value_counts()"
   ]
  },
  {
   "cell_type": "markdown",
   "id": "45c279f5",
   "metadata": {},
   "source": [
    "У нас дисбаланс классов. Это не есть хорошо."
   ]
  },
  {
   "cell_type": "code",
   "execution_count": 10,
   "id": "e7b1e156",
   "metadata": {},
   "outputs": [
    {
     "data": {
      "text/plain": [
       "['отель',\n",
       " 'номер',\n",
       " 'завтрак',\n",
       " 'хороший',\n",
       " 'персонал',\n",
       " 'минута',\n",
       " 'вид',\n",
       " 'метро',\n",
       " 'отличный',\n",
       " 'расположение',\n",
       " 'большой',\n",
       " 'центр',\n",
       " 'находиться',\n",
       " 'день',\n",
       " 'ресторан']"
      ]
     },
     "execution_count": 10,
     "metadata": {},
     "output_type": "execute_result"
    }
   ],
   "source": [
    "train_corpus = \" \".join(train_data['text'])\n",
    "train_corpus = train_corpus.lower()\n",
    "test_corpus = \" \".join(test_data['text'])\n",
    "test_corpus = test_corpus.lower()\n",
    "\n",
    "tokens = word_tokenize(train_corpus)\n",
    "\n",
    "max_words = 300\n",
    "max_len = 40\n",
    "\n",
    "tokens_filtered = [word for word in tokens if word.isalnum()]\n",
    "dist = FreqDist(tokens_filtered)\n",
    "tokens_filtered_top = [pair[0] for pair in dist.most_common(max_words-1)]\n",
    "tokens_filtered_top[:15]"
   ]
  },
  {
   "cell_type": "code",
   "execution_count": 11,
   "id": "9676f17f",
   "metadata": {},
   "outputs": [],
   "source": [
    "vocabulary = {v: k for k, v in dict(enumerate(tokens_filtered_top, 1)).items()}"
   ]
  },
  {
   "cell_type": "code",
   "execution_count": 12,
   "id": "f0b571b3",
   "metadata": {},
   "outputs": [],
   "source": [
    "def text_to_sequence(text, maxlen):\n",
    "    result = []\n",
    "    tokens = word_tokenize(text.lower())\n",
    "    tokens_filtered = [word for word in tokens if word.isalnum()]\n",
    "    for word in tokens_filtered:\n",
    "        if word in vocabulary:\n",
    "            result.append(vocabulary[word])\n",
    "    padding = [0]*(maxlen-len(result))\n",
    "    return padding + result[-maxlen:]"
   ]
  },
  {
   "cell_type": "code",
   "execution_count": 13,
   "id": "226f896f",
   "metadata": {},
   "outputs": [],
   "source": [
    "x_train = np.asarray([text_to_sequence(text, max_len) for text in train_data[\"text\"]], dtype=np.int32)\n",
    "x_test = np.asarray([text_to_sequence(text, max_len) for text in test_data[\"text\"]], dtype=np.int32)"
   ]
  },
  {
   "cell_type": "code",
   "execution_count": 14,
   "id": "503c3c91",
   "metadata": {},
   "outputs": [
    {
     "data": {
      "text/plain": [
       "((50175, 40), (6876, 40))"
      ]
     },
     "execution_count": 14,
     "metadata": {},
     "output_type": "execute_result"
    }
   ],
   "source": [
    "x_train.shape, x_test.shape"
   ]
  },
  {
   "cell_type": "code",
   "execution_count": 15,
   "id": "6de69aed",
   "metadata": {},
   "outputs": [
    {
     "data": {
      "text/plain": [
       "array([  0,   0,   0,   0,   0,   0,   0,   0,   0,   0,   0,   0,   0,\n",
       "         0,   0,   0,   0,   0,   0,   4,   1,   2,  35,  10,  30, 295,\n",
       "         6,   6,   8,  74,  51,   6, 123, 118,  45, 208, 107,   1, 113,\n",
       "         8], dtype=int32)"
      ]
     },
     "execution_count": 15,
     "metadata": {},
     "output_type": "execute_result"
    }
   ],
   "source": [
    "x_train[13]"
   ]
  },
  {
   "cell_type": "code",
   "execution_count": 16,
   "id": "67f8d482",
   "metadata": {},
   "outputs": [],
   "source": [
    "num_classes = 2\n",
    "y_train = keras.utils.to_categorical(train_data['class'], num_classes)\n",
    "y_test = keras.utils.to_categorical(test_data['class'], num_classes)"
   ]
  },
  {
   "cell_type": "markdown",
   "id": "fa98b772",
   "metadata": {},
   "source": [
    "#### Пробуем CNN архитектуру"
   ]
  },
  {
   "cell_type": "code",
   "execution_count": 31,
   "id": "9f999e52",
   "metadata": {},
   "outputs": [],
   "source": [
    "epochs = 80\n",
    "batch_size = 512\n",
    "print_batch_n = 100\n",
    "\n",
    "cnn_model = Sequential()\n",
    "cnn_model.add(Embedding(input_dim=max_words, output_dim=128, input_length=max_len))\n",
    "cnn_model.add(Conv1D(128, 3))\n",
    "cnn_model.add(Activation(\"relu\"))\n",
    "cnn_model.add(GlobalMaxPool1D())\n",
    "cnn_model.add(Dense(10))\n",
    "cnn_model.add(Activation(\"relu\"))\n",
    "cnn_model.add(Dense(num_classes))\n",
    "cnn_model.add(Activation('softmax'))"
   ]
  },
  {
   "cell_type": "code",
   "execution_count": 18,
   "id": "7ef7f23b",
   "metadata": {},
   "outputs": [],
   "source": [
    "# for calculate f1 metric it that we have disbalance classes\n",
    "def f1(y_true, y_pred):\n",
    "    def recall(y_true, y_pred):\n",
    "        true_positives = K.sum(K.round(K.clip(y_true * y_pred, 0, 1)))\n",
    "        possible_positives = K.sum(K.round(K.clip(y_true, 0, 1)))\n",
    "        recall = true_positives / (possible_positives + K.epsilon())\n",
    "        return recall\n",
    "\n",
    "    def precision(y_true, y_pred):\n",
    "        true_positives = K.sum(K.round(K.clip(y_true * y_pred, 0, 1)))\n",
    "        predicted_positives = K.sum(K.round(K.clip(y_pred, 0, 1)))\n",
    "        precision = true_positives / (predicted_positives + K.epsilon())\n",
    "        return precision\n",
    "    precision = precision(y_true, y_pred)\n",
    "    recall = recall(y_true, y_pred)\n",
    "    return 2*((precision*recall)/(precision+recall+K.epsilon()))"
   ]
  },
  {
   "cell_type": "code",
   "execution_count": 32,
   "id": "83334f15",
   "metadata": {},
   "outputs": [],
   "source": [
    "cnn_model.compile(loss = 'categorical_crossentropy',\n",
    "              optimizer = 'adam',\n",
    "              metrics = [f1])"
   ]
  },
  {
   "cell_type": "code",
   "execution_count": 33,
   "id": "c05e3b15",
   "metadata": {},
   "outputs": [
    {
     "name": "stdout",
     "output_type": "stream",
     "text": [
      "Epoch 1/80\n",
      "89/89 [==============================] - 8s 85ms/step - loss: 0.4130 - f1: 0.8375 - val_loss: 0.3855 - val_f1: 0.8355\n",
      "CPU times: user 19.7 s, sys: 376 ms, total: 20.1 s\n",
      "Wall time: 8.16 s\n"
     ]
    }
   ],
   "source": [
    "%%time\n",
    "tensorboard=TensorBoard(log_dir='./logs', write_graph=True, write_images=True)\n",
    "early_stopping=EarlyStopping(monitor='val_f1')  \n",
    "\n",
    "history_cnn = cnn_model.fit(x_train, y_train,\n",
    "                    batch_size=batch_size,\n",
    "                    epochs=epochs,\n",
    "                    verbose=1,\n",
    "                    validation_split=0.1,\n",
    "                    callbacks=[tensorboard, early_stopping])"
   ]
  },
  {
   "cell_type": "code",
   "execution_count": 34,
   "id": "0bb602db",
   "metadata": {},
   "outputs": [
    {
     "name": "stdout",
     "output_type": "stream",
     "text": [
      "14/14 [==============================] - 0s 21ms/step - loss: 0.3302 - f1: 0.8622\n",
      "\n",
      "\n",
      "Test f1: 0.8621955513954163\n"
     ]
    }
   ],
   "source": [
    "score = cnn_model.evaluate(x_test, y_test, batch_size=batch_size, verbose=1)\n",
    "print('\\n')\n",
    "print('Test f1:', score[1])"
   ]
  },
  {
   "cell_type": "markdown",
   "id": "961c2c21",
   "metadata": {},
   "source": [
    "#### Теперь построим сетку RNN"
   ]
  },
  {
   "cell_type": "code",
   "execution_count": 38,
   "id": "d1b14842",
   "metadata": {},
   "outputs": [],
   "source": [
    "model_rnn = Sequential()\n",
    "\n",
    "model_rnn.add(Embedding(input_dim=max_words, output_dim=128, input_length=max_len))\n",
    "model_rnn.add(Masking(mask_value=0.0))\n",
    "model_rnn.add(SimpleRNN(64))\n",
    "model_rnn.add(Dense(64, activation='relu'))\n",
    "model_rnn.add(Dropout(0.5))\n",
    "model_rnn.add(Dense(1, activation='sigmoid'))\n",
    "\n",
    "model_rnn.compile(\n",
    "    optimizer='adam', loss='binary_crossentropy', metrics=[f1])"
   ]
  },
  {
   "cell_type": "code",
   "execution_count": 57,
   "id": "2894cdb5",
   "metadata": {},
   "outputs": [
    {
     "name": "stdout",
     "output_type": "stream",
     "text": [
      "Epoch 1/80\n",
      "89/89 [==============================] - 9s 97ms/step - loss: 0.2966 - f1: 0.9282 - val_loss: 0.3694 - val_f1: 0.9066\n",
      "CPU times: user 17.3 s, sys: 948 ms, total: 18.3 s\n",
      "Wall time: 40.7 s\n"
     ]
    }
   ],
   "source": [
    "%%time\n",
    "early_stopping_rnn=EarlyStopping(monitor='val_f1')  \n",
    "\n",
    "history = model_rnn.fit(x_train, train_data['class'].values,\n",
    "                    batch_size=batch_size,\n",
    "                    epochs=epochs,\n",
    "                    verbose=1,\n",
    "                    validation_split=0.1,\n",
    "                    callbacks=[early_stopping_rnn])"
   ]
  },
  {
   "cell_type": "code",
   "execution_count": 49,
   "id": "11ee33ca",
   "metadata": {},
   "outputs": [
    {
     "name": "stdout",
     "output_type": "stream",
     "text": [
      "14/14 [==============================] - 0s 33ms/step - loss: 0.3157 - f1: 0.9230\n",
      "\n",
      "\n",
      "Test f1: 0.9230213761329651\n"
     ]
    }
   ],
   "source": [
    "score_rnn = model_rnn.evaluate(x_test, test_data['class'].values, batch_size=batch_size, verbose=1)\n",
    "print('\\n')\n",
    "print('Test f1:', score_rnn[1])"
   ]
  },
  {
   "cell_type": "markdown",
   "id": "7501b8f4",
   "metadata": {},
   "source": [
    "#### Результаты сравнения \"в лоб\" CNN архитектуры и RNN для классификации текстов\n",
    "RNN сетка показала себя лучше, ее метрика 0.913 в противовес CNN - 0.862 и это ожидаемо, так как RNN может анализировать последовательности, что лучше для классификации текстов, так как текст это в основном последовательность. Чем длиннее последовательность тем в теории должен быть лучше результат классификации текста, так как захватывается больше контекста."
   ]
  },
  {
   "cell_type": "markdown",
   "id": "cda47c70",
   "metadata": {},
   "source": [
    "Однако не стоить думать о том, что CNN используется только для анализа картинок с котиками. CNN довольно хорошо понимает и анализирует короткие тексты. Если ширина нашего ngram 2 или 3 этого будет достаточно для анализа семантики теста, так как в отзывах часто важны несколько слов, и нам не нужно понимать длинные предложения. Достаточно распознать пару \"плохой сервис\" или \"ужасное качество\" и этого будет достаточно чтобы понять, что мы имеем место с отрицательным отзывом.\n",
    "Именно по этому мы получили не плохой результат от CNN модели без всяких дополнительных парамеров."
   ]
  },
  {
   "cell_type": "code",
   "execution_count": 51,
   "id": "363cd0d3",
   "metadata": {},
   "outputs": [],
   "source": [
    "model_cnn_rnn = Sequential()\n",
    "\n",
    "model_cnn_rnn.add(Embedding(input_dim=max_words, output_dim=128, input_length=max_len))\n",
    "model_cnn_rnn.add(Conv1D(128, 3))\n",
    "model_cnn_rnn.add(SimpleRNN(64))\n",
    "model_cnn_rnn.add(Dense(64, activation='relu'))\n",
    "model_cnn_rnn.add(Dropout(0.5))\n",
    "model_cnn_rnn.add(Dense(1, activation='sigmoid'))\n",
    "\n",
    "model_cnn_rnn.compile(\n",
    "    optimizer='adam', loss='binary_crossentropy', metrics=[f1])"
   ]
  },
  {
   "cell_type": "code",
   "execution_count": 58,
   "id": "661dea07",
   "metadata": {},
   "outputs": [
    {
     "name": "stdout",
     "output_type": "stream",
     "text": [
      "Epoch 1/80\n",
      "89/89 [==============================] - 11s 122ms/step - loss: 0.3126 - f1: 0.9258 - val_loss: 0.3636 - val_f1: 0.9091\n",
      "CPU times: user 25 s, sys: 875 ms, total: 25.9 s\n",
      "Wall time: 12.6 s\n"
     ]
    }
   ],
   "source": [
    "%%time\n",
    "early_stopping_cnn_rnn = EarlyStopping(monitor='val_f1')  \n",
    "\n",
    "history_cnn_rnn = model_cnn_rnn.fit(x_train, train_data['class'].values,\n",
    "                    batch_size=batch_size,\n",
    "                    epochs=epochs,\n",
    "                    verbose=1,\n",
    "                    validation_split=0.1,\n",
    "                    callbacks=[early_stopping_cnn_rnn])"
   ]
  },
  {
   "cell_type": "code",
   "execution_count": 54,
   "id": "b3e0514b",
   "metadata": {},
   "outputs": [
    {
     "name": "stdout",
     "output_type": "stream",
     "text": [
      "14/14 [==============================] - 0s 35ms/step - loss: 0.3285 - f1: 0.9172\n",
      "\n",
      "\n",
      "Test f1: 0.9171813130378723\n"
     ]
    }
   ],
   "source": [
    "score_cnn_rnn = model_cnn_rnn.evaluate(x_test, test_data['class'].values, batch_size=batch_size, verbose=1)\n",
    "print('\\n')\n",
    "print('Test f1:', score_cnn_rnn[1])"
   ]
  },
  {
   "cell_type": "markdown",
   "id": "7bdd83c3",
   "metadata": {},
   "source": [
    "Комбинация CNN и RNN слоев в модели показала несколько худшие результаты чем \"чистая\" RNN. Скорее всего это благодаря тому, что первый CNN слой \"отфильтровал\" \"нужные\" слова и общий контект который может уловить \"чистая\" RNN потерялся, по этому мы имеем что-то среднее между CNN и RNN сетками. \n",
    "Что мы получили по итогу смиксовав две архитектуры:\n",
    "\n",
    "<table>\n",
    "<thead>\n",
    "    <tr><th>arch</th><th>F1 (score)</th><th>Time execution</th></tr>\n",
    "</thead>\n",
    "<tbody>\n",
    "    <tr><td>CNN</td><td>0.8621</td><td>total: 8.16 s</td></tr>\n",
    "    <tr><td>RNN</td><td>0.9230</td><td>total: 40.7 s</td></tr>\n",
    "    <tr><td>CNN_RNN</td><td>0.9171</td><td>total: 12.6 s</td></tr>\n",
    "</tbody>\n",
    "</table>"
   ]
  },
  {
   "cell_type": "code",
   "execution_count": null,
   "id": "378a0f65",
   "metadata": {},
   "outputs": [],
   "source": []
  }
 ],
 "metadata": {
  "kernelspec": {
   "display_name": "Python 3 (ipykernel)",
   "language": "python",
   "name": "python3"
  },
  "language_info": {
   "codemirror_mode": {
    "name": "ipython",
    "version": 3
   },
   "file_extension": ".py",
   "mimetype": "text/x-python",
   "name": "python",
   "nbconvert_exporter": "python",
   "pygments_lexer": "ipython3",
   "version": "3.6.15"
  }
 },
 "nbformat": 4,
 "nbformat_minor": 5
}
