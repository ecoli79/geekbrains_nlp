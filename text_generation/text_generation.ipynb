{
 "cells": [
  {
   "cell_type": "code",
   "execution_count": 1,
   "id": "b6af1823",
   "metadata": {},
   "outputs": [],
   "source": [
    "import tensorflow as tf\n",
    "\n",
    "import numpy as np\n",
    "import os\n",
    "import time"
   ]
  },
  {
   "cell_type": "code",
   "execution_count": 2,
   "metadata": {},
   "outputs": [
    {
     "name": "stdout",
     "output_type": "stream",
     "text": [
      "WARNING:tensorflow:From <ipython-input-2-628a32c4b606>:1: is_gpu_available (from tensorflow.python.framework.test_util) is deprecated and will be removed in a future version.\n",
      "Instructions for updating:\n",
      "Use `tf.config.list_physical_devices('GPU')` instead.\n"
     ]
    },
    {
     "data": {
      "text/plain": [
       "True"
      ]
     },
     "execution_count": 2,
     "metadata": {},
     "output_type": "execute_result"
    }
   ],
   "source": [
    "is_cuda_gpu_available = tf.test.is_gpu_available(cuda_only=True)\n",
    "is_cuda_gpu_available"
   ]
  },
  {
   "cell_type": "code",
   "execution_count": 3,
   "metadata": {},
   "outputs": [
    {
     "data": {
      "text/plain": [
       "[PhysicalDevice(name='/physical_device:GPU:0', device_type='GPU')]"
      ]
     },
     "execution_count": 3,
     "metadata": {},
     "output_type": "execute_result"
    }
   ],
   "source": [
    "gpus = tf.config.list_physical_devices('GPU')\n",
    "gpus"
   ]
  },
  {
   "cell_type": "code",
   "execution_count": 4,
   "metadata": {},
   "outputs": [
    {
     "name": "stdout",
     "output_type": "stream",
     "text": [
      "ls: cannot access '/home/medic/': No such file or directory\r\n"
     ]
    }
   ],
   "source": [
    "!ls /home/medic/"
   ]
  },
  {
   "cell_type": "code",
   "execution_count": 5,
   "id": "9f28f148",
   "metadata": {},
   "outputs": [
    {
     "name": "stdout",
     "output_type": "stream",
     "text": [
      "Федор Михайлович Достоевский\n",
      "\n",
      "\n",
      "ИДИОТ\n",
      "\n",
      "\n",
      "\n",
      "ЧАСТЬ ПЕРВАЯ\n",
      "\n",
      "\n",
      "I.\n",
      "\n",
      "\n",
      "В конце ноября, в оттепель, часов в девять утра, поезд Петербургско-Варшавской железной дороги на всех парах подходил к Петербургу. Было так сыро и туманно, что насилу рассвело; в десяти шагах, вправо и влево от дороги, трудно было разглядеть хоть что-нибудь из окон вагона. Из пассажиров были и возвращавшиеся из-за границы; но более были \n"
     ]
    }
   ],
   "source": [
    "text = open('idiot_dostoevsky.txt', 'rb').read().decode(encoding='utf-8')\n",
    "print(text[:400])"
   ]
  },
  {
   "cell_type": "code",
   "execution_count": 6,
   "id": "3af87aec",
   "metadata": {},
   "outputs": [
    {
     "data": {
      "text/plain": [
       "134"
      ]
     },
     "execution_count": 6,
     "metadata": {},
     "output_type": "execute_result"
    }
   ],
   "source": [
    "# create vocab in chars of text\n",
    "vocab = sorted(set(text))\n",
    "len(vocab)"
   ]
  },
  {
   "cell_type": "code",
   "execution_count": 7,
   "id": "7c876ed1",
   "metadata": {},
   "outputs": [],
   "source": [
    "# create mapping a chars\n",
    "char2idx = {u:i for i, u in enumerate(vocab)}\n",
    "idx2char = np.array(vocab)\n",
    "\n",
    "text_as_int = np.array([char2idx[c] for c in text])"
   ]
  },
  {
   "cell_type": "code",
   "execution_count": 8,
   "id": "648f1d2d",
   "metadata": {},
   "outputs": [
    {
     "data": {
      "text/plain": [
       "1308193"
      ]
     },
     "execution_count": 8,
     "metadata": {},
     "output_type": "execute_result"
    }
   ],
   "source": [
    "len(text_as_int)"
   ]
  },
  {
   "cell_type": "markdown",
   "id": "0cda3d0b",
   "metadata": {},
   "source": [
    "#### Создание модели и вспомогательных процедур"
   ]
  },
  {
   "cell_type": "code",
   "execution_count": 9,
   "id": "2bcbc8ba",
   "metadata": {},
   "outputs": [
    {
     "name": "stdout",
     "output_type": "stream",
     "text": [
      "Ф\n",
      "е\n",
      "д\n",
      "о\n",
      "р\n"
     ]
    }
   ],
   "source": [
    "len_seq = 150\n",
    "examples_per_epoch = len(text)//(len_seq + 1)\n",
    "\n",
    "char_dataset = tf.data.Dataset.from_tensor_slices(text_as_int)\n",
    "\n",
    "for i in char_dataset.take(5):\n",
    "    print(idx2char[i.numpy()])"
   ]
  },
  {
   "cell_type": "code",
   "execution_count": 10,
   "id": "c353c7c7",
   "metadata": {},
   "outputs": [
    {
     "name": "stdout",
     "output_type": "stream",
     "text": [
      "'Федор Михайлович Достоевский\\n\\n\\nИДИОТ\\n\\n\\n\\nЧАСТЬ ПЕРВАЯ\\n\\n\\nI.\\n\\n\\nВ конце ноября, в оттепель, часов в девять утра, поезд Петербургско-Варшавской железной дор'\n",
      "'оги на всех парах подходил к Петербургу. Было так сыро и туманно, что насилу рассвело; в десяти шагах, вправо и влево от дороги, трудно было разглядеть'\n",
      "' хоть что-нибудь из окон вагона. Из пассажиров были и возвращавшиеся из-за границы; но более были наполнены отделения для третьего класса, и все людом '\n",
      "'мелким и деловым, не из очень далека. Все, как водится, устали, у всех отяжелели за ночь глаза, все назяблись, все лица были бледножелтые, под цвет тум'\n",
      "'ана.\\n\\nВ одном из вагонов третьего класса, с рассвета, очутились друг против друга, у самого окна, два пассажира, - оба люди молодые, оба почти налегке,'\n"
     ]
    }
   ],
   "source": [
    "sequences = char_dataset.batch(len_seq + 1, drop_remainder = True)\n",
    "\n",
    "for item in sequences.take(5):\n",
    "    print(repr(''.join(idx2char[item.numpy()])))"
   ]
  },
  {
   "cell_type": "code",
   "execution_count": 11,
   "id": "824a1d08",
   "metadata": {},
   "outputs": [],
   "source": [
    "def split_input_target(chunk):\n",
    "    input_text = chunk[:-1]\n",
    "    target_text = chunk[1:]\n",
    "    return input_text, target_text\n",
    "\n",
    "dataset = sequences.map(split_input_target)"
   ]
  },
  {
   "cell_type": "code",
   "execution_count": 12,
   "id": "fb7f39ad",
   "metadata": {},
   "outputs": [
    {
     "name": "stdout",
     "output_type": "stream",
     "text": [
      "Input data: 'Федор Михайлович Достоевский\\n\\n\\nИДИОТ\\n\\n\\n\\nЧАСТЬ ПЕРВАЯ\\n\\n\\nI.\\n\\n\\nВ конце ноября, в оттепель, часов в девять утра, поезд Петербургско-Варшавской железной до'\n",
      "Target data: 'едор Михайлович Достоевский\\n\\n\\nИДИОТ\\n\\n\\n\\nЧАСТЬ ПЕРВАЯ\\n\\n\\nI.\\n\\n\\nВ конце ноября, в оттепель, часов в девять утра, поезд Петербургско-Варшавской железной дор'\n"
     ]
    }
   ],
   "source": [
    "for input_exmaple, target_example in dataset.take(1):\n",
    "    print('Input data:', repr(''.join(idx2char[input_exmaple.numpy()])))\n",
    "    print('Target data:', repr(''.join(idx2char[target_example.numpy()])))"
   ]
  },
  {
   "cell_type": "code",
   "execution_count": 13,
   "id": "79fcf802",
   "metadata": {},
   "outputs": [
    {
     "data": {
      "text/plain": [
       "<BatchDataset element_spec=(TensorSpec(shape=(128, 150), dtype=tf.int64, name=None), TensorSpec(shape=(128, 150), dtype=tf.int64, name=None))>"
      ]
     },
     "execution_count": 13,
     "metadata": {},
     "output_type": "execute_result"
    }
   ],
   "source": [
    "BATCH_SIZE = 128\n",
    "BUFFER_SIZE = 10000\n",
    "\n",
    "dataset = dataset.shuffle(BUFFER_SIZE).batch(BATCH_SIZE, drop_remainder = True)\n",
    "\n",
    "dataset"
   ]
  },
  {
   "cell_type": "code",
   "execution_count": 14,
   "id": "d518b542",
   "metadata": {},
   "outputs": [],
   "source": [
    "vocab_size = len(vocab)\n",
    "embedding_dim = 128\n",
    "rnn_units = 1024\n",
    "\n",
    "model = tf.keras.Sequential(\n",
    "         [\n",
    "           tf.keras.layers.Embedding(vocab_size, embedding_dim),\n",
    "           tf.keras.layers.LSTM(rnn_units, return_sequences = True),\n",
    "           tf.keras.layers.Dense(vocab_size)\n",
    "         ])"
   ]
  },
  {
   "cell_type": "code",
   "execution_count": 15,
   "id": "c0893bf1",
   "metadata": {},
   "outputs": [],
   "source": [
    "class RNNgenerator(tf.keras.Model):\n",
    "    def __init__(self, vocab_size, embedding_dim, batch_size):\n",
    "        super(RNNgenerator, self).__init__()\n",
    "        \n",
    "        self.emb = tf.keras.layers.Embedding(vocab_size, embedding_dim)\n",
    "        self.gru1 = tf.keras.layers.GRU(rnn_units, return_sequences = True, recurrent_initializer = 'glorot_uniform')\n",
    "        self.gru2 = tf.keras.layers.GRU(rnn_units, return_sequences = True, recurrent_initializer = 'glorot_uniform')\n",
    "        self.gru3 = tf.keras.layers.GRU(rnn_units, return_sequences = True, recurrent_initializer = 'glorot_uniform')\n",
    "        self.fc = tf.keras.layers.Dense(vocab_size)\n",
    "    \n",
    "    def call(self, x):\n",
    "        emb_x = self.emb(x)\n",
    "        x1 = self.gru1(emb_x)\n",
    "        x = x1\n",
    "        for _ in range(3):\n",
    "            x = self.gru2(x)\n",
    "        x = (x + x1) / 2\n",
    "        return self.fc(x)\n",
    "    \n",
    "model = RNNgenerator(vocab_size, embedding_dim, BATCH_SIZE)"
   ]
  },
  {
   "cell_type": "code",
   "execution_count": 18,
   "id": "fe8e86ba",
   "metadata": {},
   "outputs": [],
   "source": [
    "def build_model(vocab_size, embedding_dim, rnn_units, batch_size):\n",
    "    model = tf.keras.Sequential([\n",
    "        \n",
    "        tf.keras.layers.Embedding(vocab_size, embedding_dim,\n",
    "                                  batch_input_shape=[batch_size, None]),\n",
    "        \n",
    "            tf.keras.layers.LSTM(rnn_units,\n",
    "                            return_sequences=True,\n",
    "                            stateful=True,\n",
    "                            recurrent_initializer='glorot_uniform'),\n",
    "\n",
    "            tf.keras.layers.LSTM(rnn_units,\n",
    "                                return_sequences=True,\n",
    "                                stateful=True,\n",
    "                                recurrent_initializer='glorot_uniform'),\n",
    "\n",
    "             tf.keras.layers.LSTM(rnn_units,\n",
    "                                return_sequences=True,\n",
    "                                stateful=True,\n",
    "                                recurrent_initializer='glorot_uniform'),\n",
    "\n",
    "            tf.keras.layers.LSTM(rnn_units,\n",
    "                                return_sequences=True,\n",
    "                                stateful=True,\n",
    "                                recurrent_initializer='glorot_uniform'),\n",
    "            tf.keras.layers.LSTM(rnn_units,\n",
    "                                return_sequences=True,\n",
    "                                stateful=True,\n",
    "                                recurrent_initializer='glorot_uniform'),\n",
    "\n",
    "            tf.keras.layers.Dense(vocab_size)\n",
    "    ])\n",
    "    return model"
   ]
  },
  {
   "cell_type": "code",
   "execution_count": 19,
   "id": "e399f3ca",
   "metadata": {},
   "outputs": [],
   "source": [
    "model = build_model(vocab_size = len(vocab),\n",
    "                        embedding_dim = embedding_dim,\n",
    "                        rnn_units = rnn_units,\n",
    "                        batch_size = BATCH_SIZE)"
   ]
  },
  {
   "cell_type": "code",
   "execution_count": 20,
   "id": "23aeb96b",
   "metadata": {},
   "outputs": [
    {
     "name": "stdout",
     "output_type": "stream",
     "text": [
      "(128, 150, 134) # (batch_size, sequence_length, vocab_size)\n"
     ]
    }
   ],
   "source": [
    "for input_example_batch, target_example_batch in dataset.take(1):\n",
    "    example_batch_predictions = model(input_example_batch)\n",
    "    print(example_batch_predictions.shape, \"# (batch_size, sequence_length, vocab_size)\")"
   ]
  },
  {
   "cell_type": "code",
   "execution_count": 21,
   "id": "b3f74b8d",
   "metadata": {},
   "outputs": [
    {
     "name": "stdout",
     "output_type": "stream",
     "text": [
      "Model: \"sequential_1\"\n",
      "_________________________________________________________________\n",
      " Layer (type)                Output Shape              Param #   \n",
      "=================================================================\n",
      " embedding_2 (Embedding)     (128, None, 128)          17152     \n",
      "                                                                 \n",
      " lstm_1 (LSTM)               (128, None, 1024)         4722688   \n",
      "                                                                 \n",
      " lstm_2 (LSTM)               (128, None, 1024)         8392704   \n",
      "                                                                 \n",
      " lstm_3 (LSTM)               (128, None, 1024)         8392704   \n",
      "                                                                 \n",
      " lstm_4 (LSTM)               (128, None, 1024)         8392704   \n",
      "                                                                 \n",
      " lstm_5 (LSTM)               (128, None, 1024)         8392704   \n",
      "                                                                 \n",
      " dense_2 (Dense)             (128, None, 134)          137350    \n",
      "                                                                 \n",
      "=================================================================\n",
      "Total params: 38,448,006\n",
      "Trainable params: 38,448,006\n",
      "Non-trainable params: 0\n",
      "_________________________________________________________________\n"
     ]
    }
   ],
   "source": [
    "model.summary()"
   ]
  },
  {
   "cell_type": "code",
   "execution_count": 22,
   "id": "23db95f8",
   "metadata": {},
   "outputs": [
    {
     "data": {
      "text/plain": [
       "<tf.Tensor: shape=(150, 134), dtype=float32, numpy=\n",
       "array([[ 1.2437961e-07, -2.0338791e-06,  7.2742409e-07, ...,\n",
       "         2.2297712e-07, -3.3068554e-06,  1.7922165e-06],\n",
       "       [ 2.2050453e-06, -4.8406068e-06,  2.1342273e-06, ...,\n",
       "         4.1593998e-07, -1.1741408e-05,  6.5693571e-06],\n",
       "       [ 8.7120125e-06, -5.9314921e-06,  6.2684931e-06, ...,\n",
       "        -2.7037477e-06, -2.7608248e-05,  1.5119494e-05],\n",
       "       ...,\n",
       "       [ 5.5824043e-05, -1.2949415e-03, -4.6371302e-04, ...,\n",
       "        -1.4466045e-03, -1.3623759e-03, -1.4874645e-03],\n",
       "       [ 5.5543474e-05, -1.3303298e-03, -5.0278462e-04, ...,\n",
       "        -1.3634748e-03, -1.3735878e-03, -1.4979258e-03],\n",
       "       [ 5.6167271e-05, -1.3575029e-03, -5.4132967e-04, ...,\n",
       "        -1.2872502e-03, -1.3770250e-03, -1.5069363e-03]], dtype=float32)>"
      ]
     },
     "execution_count": 22,
     "metadata": {},
     "output_type": "execute_result"
    }
   ],
   "source": [
    "example_batch_predictions[3]"
   ]
  },
  {
   "cell_type": "code",
   "execution_count": 23,
   "id": "1c8e645f",
   "metadata": {},
   "outputs": [],
   "source": [
    "sampled_indices = tf.random.categorical(example_batch_predictions[3], num_samples = 1)\n",
    "sampled_indices = tf.squeeze(sampled_indices, axis = -1).numpy()"
   ]
  },
  {
   "cell_type": "code",
   "execution_count": 24,
   "id": "952df7f6",
   "metadata": {},
   "outputs": [
    {
     "name": "stdout",
     "output_type": "stream",
     "text": [
      "Input: \n",
      " 'ункте-с, но до известной лишь степени и никак не далее обстоятельств, касавшихся собственно одного того пункта… Это я понимаю и нисколько не жалуюсь.\\n'\n",
      "\n",
      "Next Char Predictions: \n",
      " 'еБШzgbMЧешheЛТ\"zлwтфхзblCШC\"@У-биЯБьюОrЗjа0ВP1_gaЗf.6СТЭeШЮ6с!иЖ8Кгw\\nдІ12зтCПLюЮРпОg*О2…LDГгJfАЧЯикТнІо…vЛr-;ЕTбCCмГВКОhСMX(БшоfiДrbЕќю\\nРШУP-\"Гl@-бvaЧ'\n"
     ]
    }
   ],
   "source": [
    "# example what give a not trained model\n",
    "print(\"Input: \\n\", repr(\"\".join(idx2char[input_example_batch[3]])))\n",
    "print()\n",
    "print(\"Next Char Predictions: \\n\", repr(\"\".join(idx2char[sampled_indices ])))"
   ]
  },
  {
   "cell_type": "markdown",
   "id": "0fce2fff",
   "metadata": {},
   "source": [
    "#### Приступ к тренировке модели"
   ]
  },
  {
   "cell_type": "code",
   "execution_count": 25,
   "id": "373e9985",
   "metadata": {},
   "outputs": [
    {
     "name": "stdout",
     "output_type": "stream",
     "text": [
      "Predictioin shape:  (128, 150, 134)\n",
      "scalar_loss:  4.8979797\n"
     ]
    }
   ],
   "source": [
    "def loss(labels, logits):\n",
    "    return tf.keras.losses.sparse_categorical_crossentropy(labels, logits, from_logits = True)\n",
    "\n",
    "example_batch_loss = loss(target_example_batch, example_batch_predictions)\n",
    "print('Predictioin shape: ', example_batch_predictions.shape)\n",
    "print('scalar_loss: ', example_batch_loss.numpy().mean())"
   ]
  },
  {
   "cell_type": "code",
   "execution_count": 26,
   "id": "8c333c41",
   "metadata": {},
   "outputs": [],
   "source": [
    "model.compile(optimizer='adam', loss=loss)"
   ]
  },
  {
   "cell_type": "code",
   "execution_count": 27,
   "id": "15e6637f",
   "metadata": {},
   "outputs": [],
   "source": [
    "# Directory where the checkpoints will be saved\n",
    "checkpoint_dir = './training_checkpoints'\n",
    "# Name of the checkpoint files\n",
    "checkpoint_prefix = os.path.join(checkpoint_dir, \"ckpt_{epoch}\")\n",
    "\n",
    "checkpoint_callback = tf.keras.callbacks.ModelCheckpoint(\n",
    "    filepath=checkpoint_prefix,\n",
    "    save_freq=88*3,\n",
    "    save_weights_only=True)"
   ]
  },
  {
   "cell_type": "code",
   "execution_count": 28,
   "id": "88256ba0",
   "metadata": {},
   "outputs": [
    {
     "name": "stdout",
     "output_type": "stream",
     "text": [
      "Epoch 1/200\n",
      "67/67 [==============================] - 45s 590ms/step - loss: 3.4163\n",
      "Epoch 2/200\n",
      "67/67 [==============================] - 41s 600ms/step - loss: 3.2680\n",
      "Epoch 3/200\n",
      "67/67 [==============================] - 42s 613ms/step - loss: 3.2685\n",
      "Epoch 4/200\n",
      "67/67 [==============================] - 47s 678ms/step - loss: 3.2685\n",
      "Epoch 5/200\n",
      "67/67 [==============================] - 42s 616ms/step - loss: 3.2684\n",
      "Epoch 6/200\n",
      "67/67 [==============================] - 44s 630ms/step - loss: 3.2684\n",
      "Epoch 7/200\n",
      "67/67 [==============================] - 43s 627ms/step - loss: 3.1746\n",
      "Epoch 8/200\n",
      "67/67 [==============================] - 47s 677ms/step - loss: 2.7279\n",
      "Epoch 9/200\n",
      "67/67 [==============================] - 43s 621ms/step - loss: 2.4801\n",
      "Epoch 10/200\n",
      "67/67 [==============================] - 42s 615ms/step - loss: 2.3160\n",
      "Epoch 11/200\n",
      "67/67 [==============================] - 43s 625ms/step - loss: 2.1195\n",
      "Epoch 12/200\n",
      "67/67 [==============================] - 46s 675ms/step - loss: 1.9171\n",
      "Epoch 13/200\n",
      "67/67 [==============================] - 43s 621ms/step - loss: 1.7391\n",
      "Epoch 14/200\n",
      "67/67 [==============================] - 43s 617ms/step - loss: 1.6008\n",
      "Epoch 15/200\n",
      "67/67 [==============================] - 43s 628ms/step - loss: 1.5053\n",
      "Epoch 16/200\n",
      "67/67 [==============================] - 47s 676ms/step - loss: 1.4326\n",
      "Epoch 17/200\n",
      "67/67 [==============================] - 43s 625ms/step - loss: 1.3740\n",
      "Epoch 18/200\n",
      "67/67 [==============================] - 43s 629ms/step - loss: 1.3208\n",
      "Epoch 19/200\n",
      "67/67 [==============================] - 43s 618ms/step - loss: 1.2745\n",
      "Epoch 20/200\n",
      "67/67 [==============================] - 46s 668ms/step - loss: 1.2253\n",
      "Epoch 21/200\n",
      "67/67 [==============================] - 43s 621ms/step - loss: 1.1781\n",
      "Epoch 22/200\n",
      "67/67 [==============================] - 43s 628ms/step - loss: 1.1301\n",
      "Epoch 23/200\n",
      "67/67 [==============================] - 43s 625ms/step - loss: 1.0805\n",
      "Epoch 24/200\n",
      "67/67 [==============================] - 45s 661ms/step - loss: 1.0278\n",
      "Epoch 25/200\n",
      "67/67 [==============================] - 43s 628ms/step - loss: 0.9758\n",
      "Epoch 26/200\n",
      "67/67 [==============================] - 43s 625ms/step - loss: 0.9219\n",
      "Epoch 27/200\n",
      "67/67 [==============================] - 43s 617ms/step - loss: 0.8649\n",
      "Epoch 28/200\n",
      "67/67 [==============================] - 47s 675ms/step - loss: 0.8079\n",
      "Epoch 29/200\n",
      "67/67 [==============================] - 43s 615ms/step - loss: 0.7505\n",
      "Epoch 30/200\n",
      "67/67 [==============================] - 44s 631ms/step - loss: 0.6955\n",
      "Epoch 31/200\n",
      "67/67 [==============================] - 43s 623ms/step - loss: 0.6398\n",
      "Epoch 32/200\n",
      "67/67 [==============================] - 46s 673ms/step - loss: 0.5911\n",
      "Epoch 33/200\n",
      "67/67 [==============================] - 43s 627ms/step - loss: 0.5432\n",
      "Epoch 34/200\n",
      "67/67 [==============================] - 43s 620ms/step - loss: 0.4949\n",
      "Epoch 35/200\n",
      "67/67 [==============================] - 44s 631ms/step - loss: 0.4535\n",
      "Epoch 36/200\n",
      "67/67 [==============================] - 46s 671ms/step - loss: 0.4174\n",
      "Epoch 37/200\n",
      "67/67 [==============================] - 43s 621ms/step - loss: 0.3827\n",
      "Epoch 38/200\n",
      "67/67 [==============================] - 43s 628ms/step - loss: 0.3537\n",
      "Epoch 39/200\n",
      "67/67 [==============================] - 43s 625ms/step - loss: 0.3267\n",
      "Epoch 40/200\n",
      "67/67 [==============================] - 46s 673ms/step - loss: 0.3036\n",
      "Epoch 41/200\n",
      "67/67 [==============================] - 43s 618ms/step - loss: 0.2878\n",
      "Epoch 42/200\n",
      "67/67 [==============================] - 43s 627ms/step - loss: 0.2717\n",
      "Epoch 43/200\n",
      "67/67 [==============================] - 43s 627ms/step - loss: 0.2590\n",
      "Epoch 44/200\n",
      "67/67 [==============================] - 46s 666ms/step - loss: 0.2459\n",
      "Epoch 45/200\n",
      "67/67 [==============================] - 43s 623ms/step - loss: 0.2344\n",
      "Epoch 46/200\n",
      "67/67 [==============================] - 43s 625ms/step - loss: 0.2278\n",
      "Epoch 47/200\n",
      "67/67 [==============================] - 43s 621ms/step - loss: 0.2199\n",
      "Epoch 48/200\n",
      "67/67 [==============================] - 46s 669ms/step - loss: 0.2138\n",
      "Epoch 49/200\n",
      "67/67 [==============================] - 43s 620ms/step - loss: 0.2094\n",
      "Epoch 50/200\n",
      "67/67 [==============================] - 43s 621ms/step - loss: 0.2047\n",
      "Epoch 51/200\n",
      "67/67 [==============================] - 44s 631ms/step - loss: 0.2021\n",
      "Epoch 52/200\n",
      "67/67 [==============================] - 45s 657ms/step - loss: 0.1978\n",
      "Epoch 53/200\n",
      "67/67 [==============================] - 43s 621ms/step - loss: 0.1953\n",
      "Epoch 54/200\n",
      "67/67 [==============================] - 43s 621ms/step - loss: 0.1940\n",
      "Epoch 55/200\n",
      "67/67 [==============================] - 43s 625ms/step - loss: 0.1902\n",
      "Epoch 56/200\n",
      "67/67 [==============================] - 46s 672ms/step - loss: 0.1892\n",
      "Epoch 57/200\n",
      "67/67 [==============================] - 43s 621ms/step - loss: 0.1869\n",
      "Epoch 58/200\n",
      "67/67 [==============================] - 43s 628ms/step - loss: 0.1849\n",
      "Epoch 59/200\n",
      "67/67 [==============================] - 43s 627ms/step - loss: 0.1838\n",
      "Epoch 60/200\n",
      "67/67 [==============================] - 46s 670ms/step - loss: 0.1810\n",
      "Epoch 61/200\n",
      "67/67 [==============================] - 43s 619ms/step - loss: 0.1779\n",
      "Epoch 62/200\n",
      "67/67 [==============================] - 43s 621ms/step - loss: 0.1758\n",
      "Epoch 63/200\n",
      "67/67 [==============================] - 43s 629ms/step - loss: 0.1735\n",
      "Epoch 64/200\n",
      "67/67 [==============================] - 46s 665ms/step - loss: 0.1726\n",
      "Epoch 65/200\n",
      "67/67 [==============================] - 43s 627ms/step - loss: 0.1705\n",
      "Epoch 66/200\n",
      "67/67 [==============================] - 43s 625ms/step - loss: 0.1705\n",
      "Epoch 67/200\n",
      "67/67 [==============================] - 46s 673ms/step - loss: 0.1701\n",
      "Epoch 68/200\n",
      "67/67 [==============================] - 43s 621ms/step - loss: 0.1678\n",
      "Epoch 69/200\n",
      "67/67 [==============================] - 42s 615ms/step - loss: 0.1688\n",
      "Epoch 70/200\n",
      "67/67 [==============================] - 43s 623ms/step - loss: 0.1670\n",
      "Epoch 71/200\n",
      "67/67 [==============================] - 46s 664ms/step - loss: 0.1654\n",
      "Epoch 72/200\n",
      "67/67 [==============================] - 43s 620ms/step - loss: 0.1627\n",
      "Epoch 73/200\n",
      "67/67 [==============================] - 42s 614ms/step - loss: 0.1612\n",
      "Epoch 74/200\n",
      "67/67 [==============================] - 44s 630ms/step - loss: 0.1609\n",
      "Epoch 75/200\n",
      "67/67 [==============================] - 46s 662ms/step - loss: 0.1606\n",
      "Epoch 76/200\n",
      "67/67 [==============================] - 43s 621ms/step - loss: 0.1603\n",
      "Epoch 77/200\n",
      "67/67 [==============================] - 43s 622ms/step - loss: 0.1588\n",
      "Epoch 78/200\n",
      "67/67 [==============================] - 43s 623ms/step - loss: 0.1567\n",
      "Epoch 79/200\n",
      "67/67 [==============================] - 46s 668ms/step - loss: 0.1573\n",
      "Epoch 80/200\n",
      "67/67 [==============================] - 43s 615ms/step - loss: 0.1569\n",
      "Epoch 81/200\n",
      "67/67 [==============================] - 43s 624ms/step - loss: 0.1570\n",
      "Epoch 82/200\n",
      "67/67 [==============================] - 44s 632ms/step - loss: 0.1549\n",
      "Epoch 83/200\n",
      "67/67 [==============================] - 46s 668ms/step - loss: 0.1534\n",
      "Epoch 84/200\n",
      "67/67 [==============================] - 43s 629ms/step - loss: 0.1547\n",
      "Epoch 85/200\n",
      "67/67 [==============================] - 43s 624ms/step - loss: 0.1535\n",
      "Epoch 86/200\n",
      "67/67 [==============================] - 43s 623ms/step - loss: 0.1534\n",
      "Epoch 87/200\n",
      "67/67 [==============================] - 46s 674ms/step - loss: 0.1545\n",
      "Epoch 88/200\n",
      "67/67 [==============================] - 43s 625ms/step - loss: 0.1522\n",
      "Epoch 89/200\n",
      "67/67 [==============================] - 43s 628ms/step - loss: 0.1492\n",
      "Epoch 90/200\n",
      "67/67 [==============================] - 43s 628ms/step - loss: 0.1497\n",
      "Epoch 91/200\n",
      "67/67 [==============================] - 47s 677ms/step - loss: 0.1491\n",
      "Epoch 92/200\n",
      "67/67 [==============================] - 42s 616ms/step - loss: 0.1477\n",
      "Epoch 93/200\n",
      "67/67 [==============================] - 43s 626ms/step - loss: 0.1455\n",
      "Epoch 94/200\n",
      "67/67 [==============================] - 43s 628ms/step - loss: 0.1434\n",
      "Epoch 95/200\n",
      "67/67 [==============================] - 46s 671ms/step - loss: 0.1426\n",
      "Epoch 96/200\n",
      "67/67 [==============================] - 43s 618ms/step - loss: 0.1424\n",
      "Epoch 97/200\n",
      "67/67 [==============================] - 44s 634ms/step - loss: 0.1418\n",
      "Epoch 98/200\n",
      "67/67 [==============================] - 43s 625ms/step - loss: 0.1425\n",
      "Epoch 99/200\n",
      "67/67 [==============================] - 46s 672ms/step - loss: 0.1443\n",
      "Epoch 100/200\n",
      "67/67 [==============================] - 43s 615ms/step - loss: 0.1461\n",
      "Epoch 101/200\n",
      "67/67 [==============================] - 44s 636ms/step - loss: 0.1461\n",
      "Epoch 102/200\n",
      "67/67 [==============================] - 44s 631ms/step - loss: 0.1453\n",
      "Epoch 103/200\n",
      "67/67 [==============================] - 46s 664ms/step - loss: 0.1439\n",
      "Epoch 104/200\n",
      "67/67 [==============================] - 44s 630ms/step - loss: 0.1414\n",
      "Epoch 105/200\n",
      "67/67 [==============================] - 43s 621ms/step - loss: 0.1398\n",
      "Epoch 106/200\n",
      "67/67 [==============================] - 43s 626ms/step - loss: 0.1397\n",
      "Epoch 107/200\n",
      "67/67 [==============================] - 46s 670ms/step - loss: 0.1405\n",
      "Epoch 108/200\n",
      "67/67 [==============================] - 43s 620ms/step - loss: 0.1401\n",
      "Epoch 109/200\n",
      "67/67 [==============================] - 44s 631ms/step - loss: 0.1384\n",
      "Epoch 110/200\n",
      "67/67 [==============================] - 43s 616ms/step - loss: 0.1373\n",
      "Epoch 111/200\n",
      "67/67 [==============================] - 46s 674ms/step - loss: 0.1366\n",
      "Epoch 112/200\n",
      "67/67 [==============================] - 43s 627ms/step - loss: 0.1363\n",
      "Epoch 113/200\n",
      "67/67 [==============================] - 44s 632ms/step - loss: 0.1353\n",
      "Epoch 114/200\n",
      "67/67 [==============================] - 43s 629ms/step - loss: 0.1344\n",
      "Epoch 115/200\n",
      "67/67 [==============================] - 46s 665ms/step - loss: 0.1337\n",
      "Epoch 116/200\n",
      "67/67 [==============================] - 44s 637ms/step - loss: 0.1326\n",
      "Epoch 117/200\n",
      "67/67 [==============================] - 44s 636ms/step - loss: 0.1343\n",
      "Epoch 118/200\n",
      "67/67 [==============================] - 43s 624ms/step - loss: 0.1336\n",
      "Epoch 119/200\n",
      "67/67 [==============================] - 47s 680ms/step - loss: 0.1330\n",
      "Epoch 120/200\n",
      "67/67 [==============================] - 43s 630ms/step - loss: 0.1332\n",
      "Epoch 121/200\n",
      "67/67 [==============================] - 44s 630ms/step - loss: 0.1324\n",
      "Epoch 122/200\n",
      "67/67 [==============================] - 43s 625ms/step - loss: 0.1324\n",
      "Epoch 123/200\n",
      "67/67 [==============================] - 46s 665ms/step - loss: 0.1325\n",
      "Epoch 124/200\n",
      "67/67 [==============================] - 44s 635ms/step - loss: 0.1320\n",
      "Epoch 125/200\n",
      "67/67 [==============================] - 43s 629ms/step - loss: 0.1298\n",
      "Epoch 126/200\n",
      "67/67 [==============================] - 44s 638ms/step - loss: 0.1286\n",
      "Epoch 127/200\n",
      "67/67 [==============================] - 46s 664ms/step - loss: 0.1282\n",
      "Epoch 128/200\n",
      "67/67 [==============================] - 44s 630ms/step - loss: 0.1286\n",
      "Epoch 129/200\n",
      "67/67 [==============================] - 44s 630ms/step - loss: 0.1290\n",
      "Epoch 130/200\n",
      "67/67 [==============================] - 44s 642ms/step - loss: 0.1295\n",
      "Epoch 131/200\n",
      "67/67 [==============================] - 46s 662ms/step - loss: 0.1302\n",
      "Epoch 132/200\n",
      "67/67 [==============================] - 44s 642ms/step - loss: 0.1290\n",
      "Epoch 133/200\n",
      "67/67 [==============================] - 43s 618ms/step - loss: 0.1276\n",
      "Epoch 134/200\n",
      "67/67 [==============================] - 47s 689ms/step - loss: 0.1273\n",
      "Epoch 135/200\n",
      "67/67 [==============================] - 43s 625ms/step - loss: 0.1263\n",
      "Epoch 136/200\n",
      "67/67 [==============================] - 44s 633ms/step - loss: 0.1268\n",
      "Epoch 137/200\n",
      "67/67 [==============================] - 44s 632ms/step - loss: 0.1261\n",
      "Epoch 138/200\n",
      "67/67 [==============================] - 46s 674ms/step - loss: 0.1262\n",
      "Epoch 139/200\n",
      "67/67 [==============================] - 43s 618ms/step - loss: 0.1242\n",
      "Epoch 140/200\n",
      "67/67 [==============================] - 44s 632ms/step - loss: 0.1249\n",
      "Epoch 141/200\n",
      "67/67 [==============================] - 43s 627ms/step - loss: 0.1250\n",
      "Epoch 142/200\n",
      "67/67 [==============================] - 46s 673ms/step - loss: 0.1231\n",
      "Epoch 143/200\n",
      "67/67 [==============================] - 44s 635ms/step - loss: 0.1222\n",
      "Epoch 144/200\n",
      "67/67 [==============================] - 43s 622ms/step - loss: 0.1222\n",
      "Epoch 145/200\n",
      "67/67 [==============================] - 44s 641ms/step - loss: 0.1225\n",
      "Epoch 146/200\n",
      "67/67 [==============================] - 46s 671ms/step - loss: 0.1230\n",
      "Epoch 147/200\n",
      "67/67 [==============================] - 43s 625ms/step - loss: 0.1231\n",
      "Epoch 148/200\n",
      "67/67 [==============================] - 44s 635ms/step - loss: 0.1246\n",
      "Epoch 149/200\n",
      "67/67 [==============================] - 43s 626ms/step - loss: 0.1242\n",
      "Epoch 150/200\n",
      "67/67 [==============================] - 46s 674ms/step - loss: 0.1229\n",
      "Epoch 151/200\n",
      "67/67 [==============================] - 43s 617ms/step - loss: 0.1217\n",
      "Epoch 152/200\n",
      "67/67 [==============================] - 43s 625ms/step - loss: 0.1217\n",
      "Epoch 153/200\n",
      "67/67 [==============================] - 44s 634ms/step - loss: 0.1192\n",
      "Epoch 154/200\n",
      "67/67 [==============================] - 46s 664ms/step - loss: 0.1179\n",
      "Epoch 155/200\n",
      "67/67 [==============================] - 43s 624ms/step - loss: 0.1172\n",
      "Epoch 156/200\n",
      "67/67 [==============================] - 44s 636ms/step - loss: 0.1164\n",
      "Epoch 157/200\n",
      "67/67 [==============================] - 43s 620ms/step - loss: 0.1161\n",
      "Epoch 158/200\n",
      "67/67 [==============================] - 47s 682ms/step - loss: 0.1164\n",
      "Epoch 159/200\n",
      "67/67 [==============================] - 43s 617ms/step - loss: 0.1172\n",
      "Epoch 160/200\n",
      "67/67 [==============================] - 44s 640ms/step - loss: 0.1172\n",
      "Epoch 161/200\n",
      "67/67 [==============================] - 42s 614ms/step - loss: 0.1164\n",
      "Epoch 162/200\n",
      "67/67 [==============================] - 47s 679ms/step - loss: 0.1165\n",
      "Epoch 163/200\n",
      "67/67 [==============================] - 43s 625ms/step - loss: 0.1163\n",
      "Epoch 164/200\n",
      "67/67 [==============================] - 43s 620ms/step - loss: 0.1167\n",
      "Epoch 165/200\n",
      "67/67 [==============================] - 44s 632ms/step - loss: 0.1149\n",
      "Epoch 166/200\n",
      "67/67 [==============================] - 46s 670ms/step - loss: 0.1159\n",
      "Epoch 167/200\n",
      "67/67 [==============================] - 43s 620ms/step - loss: 0.1171\n",
      "Epoch 168/200\n",
      "67/67 [==============================] - 43s 629ms/step - loss: 0.1165\n",
      "Epoch 169/200\n",
      "67/67 [==============================] - 44s 632ms/step - loss: 0.1159\n",
      "Epoch 170/200\n",
      "67/67 [==============================] - 47s 675ms/step - loss: 0.1150\n",
      "Epoch 171/200\n",
      "67/67 [==============================] - 44s 634ms/step - loss: 0.1129\n",
      "Epoch 172/200\n",
      "67/67 [==============================] - 44s 636ms/step - loss: 0.1133\n",
      "Epoch 173/200\n",
      "67/67 [==============================] - 43s 623ms/step - loss: 0.1123\n",
      "Epoch 174/200\n",
      "67/67 [==============================] - 46s 674ms/step - loss: 0.1100\n",
      "Epoch 175/200\n",
      "67/67 [==============================] - 43s 626ms/step - loss: 0.1100\n",
      "Epoch 176/200\n",
      "67/67 [==============================] - 44s 631ms/step - loss: 0.1086\n",
      "Epoch 177/200\n",
      "67/67 [==============================] - 43s 624ms/step - loss: 0.1070\n",
      "Epoch 178/200\n",
      "67/67 [==============================] - 46s 671ms/step - loss: 0.1086\n",
      "Epoch 179/200\n",
      "67/67 [==============================] - 43s 628ms/step - loss: 0.1089\n",
      "Epoch 180/200\n",
      "67/67 [==============================] - 43s 627ms/step - loss: 0.1116\n",
      "Epoch 181/200\n",
      "67/67 [==============================] - 43s 629ms/step - loss: 0.1117\n",
      "Epoch 182/200\n",
      "67/67 [==============================] - 46s 665ms/step - loss: 0.1127\n",
      "Epoch 183/200\n",
      "67/67 [==============================] - 44s 633ms/step - loss: 0.1126\n",
      "Epoch 184/200\n",
      "67/67 [==============================] - 43s 626ms/step - loss: 0.1125\n",
      "Epoch 185/200\n",
      "67/67 [==============================] - 44s 631ms/step - loss: 0.1132\n",
      "Epoch 186/200\n",
      "67/67 [==============================] - 46s 674ms/step - loss: 0.1129\n",
      "Epoch 187/200\n",
      "67/67 [==============================] - 43s 626ms/step - loss: 0.1104\n",
      "Epoch 188/200\n",
      "67/67 [==============================] - 44s 632ms/step - loss: 0.1103\n",
      "Epoch 189/200\n",
      "67/67 [==============================] - 43s 623ms/step - loss: 0.1071\n",
      "Epoch 190/200\n",
      "67/67 [==============================] - 46s 665ms/step - loss: 0.1064\n",
      "Epoch 191/200\n",
      "67/67 [==============================] - 44s 634ms/step - loss: 0.1061\n",
      "Epoch 192/200\n",
      "67/67 [==============================] - 43s 621ms/step - loss: 0.1047\n",
      "Epoch 193/200\n",
      "67/67 [==============================] - 44s 637ms/step - loss: 0.1054\n",
      "Epoch 194/200\n",
      "67/67 [==============================] - 46s 665ms/step - loss: 0.1056\n",
      "Epoch 195/200\n",
      "67/67 [==============================] - 44s 631ms/step - loss: 0.1062\n",
      "Epoch 196/200\n",
      "67/67 [==============================] - 43s 625ms/step - loss: 0.1052\n",
      "Epoch 197/200\n",
      "67/67 [==============================] - 43s 623ms/step - loss: 0.1060\n",
      "Epoch 198/200\n",
      "67/67 [==============================] - 47s 633ms/step - loss: 0.1050\n",
      "Epoch 199/200\n",
      "67/67 [==============================] - 44s 632ms/step - loss: 0.1054\n",
      "Epoch 200/200\n",
      "67/67 [==============================] - 43s 627ms/step - loss: 0.1062\n"
     ]
    }
   ],
   "source": [
    "EPOCHS = 200\n",
    "history = model.fit(dataset, epochs=EPOCHS, callbacks=[checkpoint_callback])"
   ]
  },
  {
   "cell_type": "code",
   "execution_count": 29,
   "id": "aab71475",
   "metadata": {},
   "outputs": [
    {
     "data": {
      "text/plain": [
       "'./training_checkpoints/ckpt_198'"
      ]
     },
     "execution_count": 29,
     "metadata": {},
     "output_type": "execute_result"
    }
   ],
   "source": [
    "tf.train.latest_checkpoint(checkpoint_dir)"
   ]
  },
  {
   "cell_type": "code",
   "execution_count": 30,
   "id": "02cd32b2",
   "metadata": {},
   "outputs": [
    {
     "name": "stdout",
     "output_type": "stream",
     "text": [
      "Model: \"sequential_2\"\n",
      "_________________________________________________________________\n",
      " Layer (type)                Output Shape              Param #   \n",
      "=================================================================\n",
      " embedding_3 (Embedding)     (1, None, 128)            17152     \n",
      "                                                                 \n",
      " lstm_6 (LSTM)               (1, None, 1024)           4722688   \n",
      "                                                                 \n",
      " lstm_7 (LSTM)               (1, None, 1024)           8392704   \n",
      "                                                                 \n",
      " lstm_8 (LSTM)               (1, None, 1024)           8392704   \n",
      "                                                                 \n",
      " lstm_9 (LSTM)               (1, None, 1024)           8392704   \n",
      "                                                                 \n",
      " lstm_10 (LSTM)              (1, None, 1024)           8392704   \n",
      "                                                                 \n",
      " dense_3 (Dense)             (1, None, 134)            137350    \n",
      "                                                                 \n",
      "=================================================================\n",
      "Total params: 38,448,006\n",
      "Trainable params: 38,448,006\n",
      "Non-trainable params: 0\n",
      "_________________________________________________________________\n"
     ]
    }
   ],
   "source": [
    "model = build_model(vocab_size, embedding_dim, rnn_units, batch_size=1)\n",
    "model.load_weights(tf.train.latest_checkpoint(checkpoint_dir))\n",
    "model.build(tf.TensorShape([1, None]))\n",
    "model.summary()"
   ]
  },
  {
   "cell_type": "code",
   "execution_count": 33,
   "metadata": {},
   "outputs": [],
   "source": [
    "def generate_text(model, start_string):\n",
    "    # Evaluation step (generating text using the learned model)\n",
    "\n",
    "    # Number of characters to generate\n",
    "    num_generate = 1100\n",
    "\n",
    "    # Converting our start string to numbers (vectorizing)\n",
    "    input_eval = [char2idx[s] for s in start_string]\n",
    "    input_eval = tf.expand_dims(input_eval, 0)\n",
    "\n",
    "    # Empty string to store our results\n",
    "    text_generated = []\n",
    "\n",
    "    # Low temperature results in more predictable text.\n",
    "    # Higher temperature results in more surprising text.\n",
    "    # Experiment to find the best setting.\n",
    "    temperature = 0.5\n",
    "\n",
    "    # Here batch size == 1\n",
    "    model.reset_states()\n",
    "    for i in range(num_generate):\n",
    "        predictions = model(input_eval)\n",
    "        predictions = tf.squeeze(predictions, 0)\n",
    "        # using a categorical distribution to predict the character returned by the model\n",
    "        predictions = predictions / temperature\n",
    "        predicted_id = tf.random.categorical(predictions, num_samples=1)[-1, 0].numpy()\n",
    "\n",
    "        # Pass the predicted character as the next input to the model\n",
    "        # along with the previous hidden state\n",
    "        input_eval = tf.expand_dims([predicted_id], 0)\n",
    "\n",
    "        text_generated.append(idx2char[predicted_id])\n",
    "\n",
    "    return (start_string + ''.join(text_generated))"
   ]
  },
  {
   "cell_type": "code",
   "execution_count": 34,
   "metadata": {},
   "outputs": [
    {
     "name": "stdout",
     "output_type": "stream",
     "text": [
      "Было время когда я оберную нельзя будет срасновенный требо подле меня, Евгения Павлович: - кончал, у меня тогда делали? Не на что мамаша два целковых купленная, в виде корпусом, облокотился на стол руки, и все трое тоже пристально стали рассматривать князя. Из другой комнаты показался Коля после того, как скрылись последние действующих лиц нашего рассказа до того изменилось, что нам чрезвычайно трудно приступать к продолжению без особых объяснений. И однако мы чувствует тихо, как он не мог устроги по фамилии Аглае и не потеряла говорить, то как раб и наемщик, не иначе… я не сержусь, а грущу-с.\n",
      "\n",
      "- Лукьян Тимофеич, помилуйся, сумасшедшая! Повсегодованием.\n",
      "\n",
      "- Он, право, очень мил, - пробормотал опять старичок Ивану Петровичу.\n",
      "\n",
      "- Я вошел сюда с мукой в сердце, - продолжал князь, все с каким-то вызовом обводя всех кругом глазами и как будто обращаясь ко всем безразлично. Князь заметил, что он весь семейный человек, видимо, противо, что вот этот кашель Фердыщенко; - дело ясное, дело само за себя говорит!\n",
      "\n",
      "- Дело слишком ясное и слишком за себя говорит, - подхватил вдруг молчавший Ганя. - Я наблюдал говорил в\n"
     ]
    }
   ],
   "source": [
    "text_ = generate_text(model, start_string=u\"Было время когда я \")\n",
    "print(text_)"
   ]
  }
 ],
 "metadata": {
  "kernelspec": {
   "display_name": "Python 3",
   "language": "python",
   "name": "python3"
  },
  "language_info": {
   "codemirror_mode": {
    "name": "ipython",
    "version": 3
   },
   "file_extension": ".py",
   "mimetype": "text/x-python",
   "name": "python",
   "nbconvert_exporter": "python",
   "pygments_lexer": "ipython3",
   "version": "3.8.10"
  }
 },
 "nbformat": 4,
 "nbformat_minor": 5
}
